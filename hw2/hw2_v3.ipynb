{
 "cells": [
  {
   "cell_type": "code",
   "execution_count": 1,
   "metadata": {
    "colab": {
     "base_uri": "https://localhost:8080/"
    },
    "id": "J7m_Kle66YBn",
    "outputId": "ca0a7116-6170-4015-e506-7348aaddf7d7"
   },
   "outputs": [
    {
     "name": "stdout",
     "output_type": "stream",
     "text": [
      "Requirement already satisfied: mlrose-hiive in d:\\ml4t\\anaconda3\\lib\\site-packages (2.2.4)\n",
      "Requirement already satisfied: scikit-learn in d:\\ml4t\\anaconda3\\lib\\site-packages (from mlrose-hiive) (0.21.3)\n",
      "Requirement already satisfied: scipy in d:\\ml4t\\anaconda3\\lib\\site-packages (from mlrose-hiive) (1.3.1)\n",
      "Requirement already satisfied: pandas in d:\\ml4t\\anaconda3\\lib\\site-packages (from mlrose-hiive) (0.25.1)\n",
      "Requirement already satisfied: networkx in d:\\ml4t\\anaconda3\\lib\\site-packages (from mlrose-hiive) (2.3)\n",
      "Requirement already satisfied: joblib in d:\\ml4t\\anaconda3\\lib\\site-packages (from mlrose-hiive) (0.13.2)\n",
      "Requirement already satisfied: numpy in d:\\ml4t\\anaconda3\\lib\\site-packages (from mlrose-hiive) (1.16.5)\n",
      "Requirement already satisfied: python-dateutil>=2.6.1 in d:\\ml4t\\anaconda3\\lib\\site-packages (from pandas->mlrose-hiive) (2.8.0)\n",
      "Requirement already satisfied: pytz>=2017.2 in d:\\ml4t\\anaconda3\\lib\\site-packages (from pandas->mlrose-hiive) (2019.3)\n",
      "Requirement already satisfied: decorator>=4.3.0 in d:\\ml4t\\anaconda3\\lib\\site-packages (from networkx->mlrose-hiive) (4.4.0)\n",
      "Requirement already satisfied: six>=1.5 in d:\\ml4t\\anaconda3\\lib\\site-packages (from python-dateutil>=2.6.1->pandas->mlrose-hiive) (1.12.0)\n"
     ]
    }
   ],
   "source": [
    "!pip install mlrose-hiive"
   ]
  },
  {
   "cell_type": "code",
   "execution_count": 259,
   "metadata": {
    "id": "bHfEnOc46myg"
   },
   "outputs": [],
   "source": [
    "import pandas as pd\n",
    "import numpy as np\n",
    "import matplotlib.pyplot as plt\n",
    "import seaborn as sns\n",
    "import time\n",
    "\n",
    "import mlrose_hiive as mlr\n",
    "from mlrose_hiive.generators import MaxKColorGenerator\n",
    "from mlrose_hiive.opt_probs import MaxKColorOpt\n",
    "from sklearn.model_selection import train_test_split\n",
    "from sklearn.preprocessing import MinMaxScaler, OneHotEncoder\n",
    "from sklearn.metrics import f1_score\n",
    "from sklearn.metrics import accuracy_score"
   ]
  },
  {
   "cell_type": "code",
   "execution_count": 28,
   "metadata": {
    "id": "BCo-mEKUyGp9"
   },
   "outputs": [],
   "source": [
    "schedule = mlr.ExpDecay()"
   ]
  },
  {
   "cell_type": "markdown",
   "metadata": {
    "id": "dDEGdjpcVXEm"
   },
   "source": [
    "### 4 peaks"
   ]
  },
  {
   "cell_type": "code",
   "execution_count": 5,
   "metadata": {
    "id": "ugLu5jKuVRUy"
   },
   "outputs": [],
   "source": [
    "def four_peaks_prob(inputs):\n",
    "  np.random.seed(2)\n",
    "  four_peaks=mlr.FourPeaks()\n",
    "  state=np.random.randint(2, size=inputs)\n",
    "  #print(state)\n",
    "  four_peaks.evaluate(state)\n",
    "  problem=mlr.DiscreteOpt(length = inputs, fitness_fn = four_peaks, maximize=True, max_val=8)\n",
    "\n",
    "  return problem"
   ]
  },
  {
   "cell_type": "markdown",
   "metadata": {
    "id": "XsMToKuaTInf"
   },
   "source": [
    "##### Random Hill Climbing"
   ]
  },
  {
   "cell_type": "code",
   "execution_count": null,
   "metadata": {},
   "outputs": [],
   "source": [
    "prob=four_peaks_prob(12)"
   ]
  },
  {
   "cell_type": "code",
   "execution_count": 6,
   "metadata": {
    "colab": {
     "base_uri": "https://localhost:8080/",
     "height": 364
    },
    "id": "n1iLsvwMNHFi",
    "outputId": "41229020-3cd4-45a3-b677-7c42298fe540"
   },
   "outputs": [],
   "source": [
    "# Turining parameters\n",
    "rhc=mlr.RHCRunner(problem=prob, experiment_name='rhc', output_directory='content', seed=2, \n",
    "                  max_attempts=500, iteration_list=[500, 1000, 2500], restart_list=[10])\n",
    "df_rhc_stats, df_rhc_curve = rhc.run()"
   ]
  },
  {
   "cell_type": "code",
   "execution_count": 17,
   "metadata": {},
   "outputs": [
    {
     "data": {
      "text/html": [
       "<div>\n",
       "<style scoped>\n",
       "    .dataframe tbody tr th:only-of-type {\n",
       "        vertical-align: middle;\n",
       "    }\n",
       "\n",
       "    .dataframe tbody tr th {\n",
       "        vertical-align: top;\n",
       "    }\n",
       "\n",
       "    .dataframe thead th {\n",
       "        text-align: right;\n",
       "    }\n",
       "</style>\n",
       "<table border=\"1\" class=\"dataframe\">\n",
       "  <thead>\n",
       "    <tr style=\"text-align: right;\">\n",
       "      <th></th>\n",
       "      <th>Iteration</th>\n",
       "      <th>Fitness</th>\n",
       "      <th>FEvals</th>\n",
       "      <th>Time</th>\n",
       "      <th>State</th>\n",
       "      <th>Restarts</th>\n",
       "      <th>max_iters</th>\n",
       "      <th>current_restart</th>\n",
       "    </tr>\n",
       "  </thead>\n",
       "  <tbody>\n",
       "    <tr>\n",
       "      <td>22</td>\n",
       "      <td>1000</td>\n",
       "      <td>12.0</td>\n",
       "      <td>7046</td>\n",
       "      <td>8.506889</td>\n",
       "      <td>[1, 1, 1, 1, 1, 1, 1, 1, 1, 1, 1, 1]</td>\n",
       "      <td>10</td>\n",
       "      <td>2500</td>\n",
       "      <td>5</td>\n",
       "    </tr>\n",
       "    <tr>\n",
       "      <td>14</td>\n",
       "      <td>1000</td>\n",
       "      <td>12.0</td>\n",
       "      <td>4523</td>\n",
       "      <td>3.600878</td>\n",
       "      <td>[0, 0, 0, 0, 0, 0, 0, 0, 0, 0, 0, 0]</td>\n",
       "      <td>10</td>\n",
       "      <td>2500</td>\n",
       "      <td>3</td>\n",
       "    </tr>\n",
       "    <tr>\n",
       "      <td>42</td>\n",
       "      <td>1000</td>\n",
       "      <td>12.0</td>\n",
       "      <td>14836</td>\n",
       "      <td>37.160920</td>\n",
       "      <td>[1, 1, 1, 1, 1, 1, 1, 1, 1, 1, 1, 1]</td>\n",
       "      <td>10</td>\n",
       "      <td>2500</td>\n",
       "      <td>10</td>\n",
       "    </tr>\n",
       "    <tr>\n",
       "      <td>41</td>\n",
       "      <td>500</td>\n",
       "      <td>12.0</td>\n",
       "      <td>14348</td>\n",
       "      <td>34.514390</td>\n",
       "      <td>[1, 1, 1, 1, 1, 1, 1, 1, 1, 1, 1, 1]</td>\n",
       "      <td>10</td>\n",
       "      <td>2500</td>\n",
       "      <td>10</td>\n",
       "    </tr>\n",
       "    <tr>\n",
       "      <td>39</td>\n",
       "      <td>2500</td>\n",
       "      <td>12.0</td>\n",
       "      <td>13839</td>\n",
       "      <td>32.162216</td>\n",
       "      <td>[1, 1, 1, 1, 1, 1, 1, 1, 1, 1, 1, 1]</td>\n",
       "      <td>10</td>\n",
       "      <td>2500</td>\n",
       "      <td>9</td>\n",
       "    </tr>\n",
       "  </tbody>\n",
       "</table>\n",
       "</div>"
      ],
      "text/plain": [
       "    Iteration  Fitness  FEvals       Time  \\\n",
       "22       1000     12.0    7046   8.506889   \n",
       "14       1000     12.0    4523   3.600878   \n",
       "42       1000     12.0   14836  37.160920   \n",
       "41        500     12.0   14348  34.514390   \n",
       "39       2500     12.0   13839  32.162216   \n",
       "\n",
       "                                   State  Restarts  max_iters  current_restart  \n",
       "22  [1, 1, 1, 1, 1, 1, 1, 1, 1, 1, 1, 1]        10       2500                5  \n",
       "14  [0, 0, 0, 0, 0, 0, 0, 0, 0, 0, 0, 0]        10       2500                3  \n",
       "42  [1, 1, 1, 1, 1, 1, 1, 1, 1, 1, 1, 1]        10       2500               10  \n",
       "41  [1, 1, 1, 1, 1, 1, 1, 1, 1, 1, 1, 1]        10       2500               10  \n",
       "39  [1, 1, 1, 1, 1, 1, 1, 1, 1, 1, 1, 1]        10       2500                9  "
      ]
     },
     "execution_count": 17,
     "metadata": {},
     "output_type": "execute_result"
    }
   ],
   "source": [
    "df_rhc_stats.sort_values(by=['Fitness'], ascending=False).head()"
   ]
  },
  {
   "cell_type": "code",
   "execution_count": 18,
   "metadata": {},
   "outputs": [
    {
     "data": {
      "text/html": [
       "<div>\n",
       "<style scoped>\n",
       "    .dataframe tbody tr th:only-of-type {\n",
       "        vertical-align: middle;\n",
       "    }\n",
       "\n",
       "    .dataframe tbody tr th {\n",
       "        vertical-align: top;\n",
       "    }\n",
       "\n",
       "    .dataframe thead th {\n",
       "        text-align: right;\n",
       "    }\n",
       "</style>\n",
       "<table border=\"1\" class=\"dataframe\">\n",
       "  <thead>\n",
       "    <tr style=\"text-align: right;\">\n",
       "      <th></th>\n",
       "      <th>Iteration</th>\n",
       "      <th>Fitness</th>\n",
       "      <th>FEvals</th>\n",
       "      <th>Time</th>\n",
       "      <th>State</th>\n",
       "      <th>Restarts</th>\n",
       "      <th>max_iters</th>\n",
       "      <th>current_restart</th>\n",
       "    </tr>\n",
       "  </thead>\n",
       "  <tbody>\n",
       "    <tr>\n",
       "      <td>2</td>\n",
       "      <td>1000</td>\n",
       "      <td>12.0</td>\n",
       "      <td>1009</td>\n",
       "      <td>0.213927</td>\n",
       "      <td>[0, 0, 0, 0, 0, 0, 0, 0, 0, 0, 0, 0]</td>\n",
       "      <td>10</td>\n",
       "      <td>2500</td>\n",
       "      <td>0</td>\n",
       "    </tr>\n",
       "  </tbody>\n",
       "</table>\n",
       "</div>"
      ],
      "text/plain": [
       "   Iteration  Fitness  FEvals      Time                                 State  \\\n",
       "2       1000     12.0    1009  0.213927  [0, 0, 0, 0, 0, 0, 0, 0, 0, 0, 0, 0]   \n",
       "\n",
       "   Restarts  max_iters  current_restart  \n",
       "2        10       2500                0  "
      ]
     },
     "execution_count": 18,
     "metadata": {},
     "output_type": "execute_result"
    }
   ],
   "source": [
    "min_FEvals=df_rhc_stats[df_rhc_stats['Fitness']==12]['FEvals'].min()\n",
    "best_param=df_rhc_stats[(df_rhc_stats['Fitness']==12) & (df_rhc_stats['FEvals']==min_FEvals)]\n",
    "best_param\n",
    "#min_FEvals"
   ]
  },
  {
   "cell_type": "code",
   "execution_count": 36,
   "metadata": {
    "id": "1Y6eQ9sdYgmA"
   },
   "outputs": [],
   "source": [
    "# best parameter random hill climbing\n",
    "best_state, best_fitness, fitness_curve_rhc = mlr.random_hill_climb(problem=prob, \n",
    "                                                                    max_attempts = 500, \n",
    "                                                                    max_iters = 2500,\n",
    "                                                                    curve=True, random_state=2, restarts=10)"
   ]
  },
  {
   "cell_type": "code",
   "execution_count": 37,
   "metadata": {
    "colab": {
     "base_uri": "https://localhost:8080/",
     "height": 424
    },
    "id": "J5anmY_NY37H",
    "outputId": "3e6ab85a-42e2-43ec-dc53-45782d783644"
   },
   "outputs": [],
   "source": [
    "rhc_curve=pd.DataFrame(fitness_curve_rhc, columns=['fitness','iterations'])"
   ]
  },
  {
   "cell_type": "code",
   "execution_count": 38,
   "metadata": {
    "colab": {
     "base_uri": "https://localhost:8080/",
     "height": 282
    },
    "id": "kT-dkJDeaZS6",
    "outputId": "6b185e2c-3836-4ffa-9db7-2b38445b6d66"
   },
   "outputs": [
    {
     "data": {
      "text/plain": [
       "[<matplotlib.lines.Line2D at 0x22553cf4c48>]"
      ]
     },
     "execution_count": 38,
     "metadata": {},
     "output_type": "execute_result"
    },
    {
     "data": {
      "image/png": "[encoded data removed]",
      "text/plain": [
       "<Figure size 432x288 with 1 Axes>"
      ]
     },
     "metadata": {
      "needs_background": "light"
     },
     "output_type": "display_data"
    }
   ],
   "source": [
    "plt.plot(rhc_curve['iterations'], rhc_curve['fitness'])"
   ]
  },
  {
   "cell_type": "markdown",
   "metadata": {
    "id": "6etW4uGDS7iE"
   },
   "source": [
    "##### simulated annealing"
   ]
  },
  {
   "cell_type": "code",
   "execution_count": 23,
   "metadata": {
    "colab": {
     "base_uri": "https://localhost:8080/",
     "height": 346
    },
    "id": "YFBcFtyKS-na",
    "outputId": "c88dfdbb-8604-477a-bcda-e92258d6ca59"
   },
   "outputs": [],
   "source": [
    "# hyper parameters\n",
    "sa = mlr.SARunner(problem=prob, experiment_name='sa', output_directory='content', seed=2,\n",
    "                  max_attempts=500, iteration_list=[1000, 2500],\n",
    "                  temperature_list=[0.1, 0.5, 1, 10, 20])\n",
    "df_sa_stats, df_sa_curve = sa.run()"
   ]
  },
  {
   "cell_type": "code",
   "execution_count": 24,
   "metadata": {},
   "outputs": [
    {
     "data": {
      "text/html": [
       "<div>\n",
       "<style scoped>\n",
       "    .dataframe tbody tr th:only-of-type {\n",
       "        vertical-align: middle;\n",
       "    }\n",
       "\n",
       "    .dataframe tbody tr th {\n",
       "        vertical-align: top;\n",
       "    }\n",
       "\n",
       "    .dataframe thead th {\n",
       "        text-align: right;\n",
       "    }\n",
       "</style>\n",
       "<table border=\"1\" class=\"dataframe\">\n",
       "  <thead>\n",
       "    <tr style=\"text-align: right;\">\n",
       "      <th></th>\n",
       "      <th>Iteration</th>\n",
       "      <th>Fitness</th>\n",
       "      <th>FEvals</th>\n",
       "      <th>Time</th>\n",
       "      <th>State</th>\n",
       "      <th>schedule_type</th>\n",
       "      <th>schedule_init_temp</th>\n",
       "      <th>schedule_decay</th>\n",
       "      <th>schedule_min_temp</th>\n",
       "      <th>schedule_current_value</th>\n",
       "      <th>Temperature</th>\n",
       "      <th>max_iters</th>\n",
       "    </tr>\n",
       "  </thead>\n",
       "  <tbody>\n",
       "    <tr>\n",
       "      <td>4</td>\n",
       "      <td>1000</td>\n",
       "      <td>21.0</td>\n",
       "      <td>1323</td>\n",
       "      <td>0.192458</td>\n",
       "      <td>[1, 1, 1, 1, 1, 1, 1, 1, 1, 0, 0, 0]</td>\n",
       "      <td>geometric</td>\n",
       "      <td>0.5</td>\n",
       "      <td>0.99</td>\n",
       "      <td>0.001</td>\n",
       "      <td>0.499034</td>\n",
       "      <td>0.5</td>\n",
       "      <td>2500</td>\n",
       "    </tr>\n",
       "    <tr>\n",
       "      <td>5</td>\n",
       "      <td>2500</td>\n",
       "      <td>21.0</td>\n",
       "      <td>1404</td>\n",
       "      <td>0.248009</td>\n",
       "      <td>[1, 1, 1, 1, 1, 1, 1, 1, 1, 0, 0, 0]</td>\n",
       "      <td>geometric</td>\n",
       "      <td>0.5</td>\n",
       "      <td>0.99</td>\n",
       "      <td>0.001</td>\n",
       "      <td>0.498755</td>\n",
       "      <td>0.5</td>\n",
       "      <td>2500</td>\n",
       "    </tr>\n",
       "    <tr>\n",
       "      <td>7</td>\n",
       "      <td>1000</td>\n",
       "      <td>21.0</td>\n",
       "      <td>1324</td>\n",
       "      <td>0.222384</td>\n",
       "      <td>[1, 1, 1, 1, 1, 1, 1, 1, 1, 0, 0, 0]</td>\n",
       "      <td>geometric</td>\n",
       "      <td>1.0</td>\n",
       "      <td>0.99</td>\n",
       "      <td>0.001</td>\n",
       "      <td>0.997767</td>\n",
       "      <td>1</td>\n",
       "      <td>2500</td>\n",
       "    </tr>\n",
       "    <tr>\n",
       "      <td>8</td>\n",
       "      <td>2500</td>\n",
       "      <td>21.0</td>\n",
       "      <td>1405</td>\n",
       "      <td>0.307779</td>\n",
       "      <td>[1, 1, 1, 1, 1, 1, 1, 1, 1, 0, 0, 0]</td>\n",
       "      <td>geometric</td>\n",
       "      <td>1.0</td>\n",
       "      <td>0.99</td>\n",
       "      <td>0.001</td>\n",
       "      <td>0.996911</td>\n",
       "      <td>1</td>\n",
       "      <td>2500</td>\n",
       "    </tr>\n",
       "    <tr>\n",
       "      <td>1</td>\n",
       "      <td>1000</td>\n",
       "      <td>12.0</td>\n",
       "      <td>1098</td>\n",
       "      <td>0.152043</td>\n",
       "      <td>[1, 1, 1, 1, 1, 1, 1, 1, 1, 1, 1, 1]</td>\n",
       "      <td>geometric</td>\n",
       "      <td>0.1</td>\n",
       "      <td>0.99</td>\n",
       "      <td>0.001</td>\n",
       "      <td>0.099847</td>\n",
       "      <td>0.1</td>\n",
       "      <td>2500</td>\n",
       "    </tr>\n",
       "  </tbody>\n",
       "</table>\n",
       "</div>"
      ],
      "text/plain": [
       "   Iteration  Fitness  FEvals      Time                                 State  \\\n",
       "4       1000     21.0    1323  0.192458  [1, 1, 1, 1, 1, 1, 1, 1, 1, 0, 0, 0]   \n",
       "5       2500     21.0    1404  0.248009  [1, 1, 1, 1, 1, 1, 1, 1, 1, 0, 0, 0]   \n",
       "7       1000     21.0    1324  0.222384  [1, 1, 1, 1, 1, 1, 1, 1, 1, 0, 0, 0]   \n",
       "8       2500     21.0    1405  0.307779  [1, 1, 1, 1, 1, 1, 1, 1, 1, 0, 0, 0]   \n",
       "1       1000     12.0    1098  0.152043  [1, 1, 1, 1, 1, 1, 1, 1, 1, 1, 1, 1]   \n",
       "\n",
       "  schedule_type  schedule_init_temp  schedule_decay  schedule_min_temp  \\\n",
       "4     geometric                 0.5            0.99              0.001   \n",
       "5     geometric                 0.5            0.99              0.001   \n",
       "7     geometric                 1.0            0.99              0.001   \n",
       "8     geometric                 1.0            0.99              0.001   \n",
       "1     geometric                 0.1            0.99              0.001   \n",
       "\n",
       "   schedule_current_value Temperature  max_iters  \n",
       "4                0.499034         0.5       2500  \n",
       "5                0.498755         0.5       2500  \n",
       "7                0.997767           1       2500  \n",
       "8                0.996911           1       2500  \n",
       "1                0.099847         0.1       2500  "
      ]
     },
     "execution_count": 24,
     "metadata": {},
     "output_type": "execute_result"
    }
   ],
   "source": [
    "df_sa_stats.sort_values(by=['Fitness'], ascending=False).head()"
   ]
  },
  {
   "cell_type": "code",
   "execution_count": 27,
   "metadata": {},
   "outputs": [
    {
     "data": {
      "text/html": [
       "<div>\n",
       "<style scoped>\n",
       "    .dataframe tbody tr th:only-of-type {\n",
       "        vertical-align: middle;\n",
       "    }\n",
       "\n",
       "    .dataframe tbody tr th {\n",
       "        vertical-align: top;\n",
       "    }\n",
       "\n",
       "    .dataframe thead th {\n",
       "        text-align: right;\n",
       "    }\n",
       "</style>\n",
       "<table border=\"1\" class=\"dataframe\">\n",
       "  <thead>\n",
       "    <tr style=\"text-align: right;\">\n",
       "      <th></th>\n",
       "      <th>Iteration</th>\n",
       "      <th>Fitness</th>\n",
       "      <th>FEvals</th>\n",
       "      <th>Time</th>\n",
       "      <th>State</th>\n",
       "      <th>schedule_type</th>\n",
       "      <th>schedule_init_temp</th>\n",
       "      <th>schedule_decay</th>\n",
       "      <th>schedule_min_temp</th>\n",
       "      <th>schedule_current_value</th>\n",
       "      <th>Temperature</th>\n",
       "      <th>max_iters</th>\n",
       "    </tr>\n",
       "  </thead>\n",
       "  <tbody>\n",
       "    <tr>\n",
       "      <td>4</td>\n",
       "      <td>1000</td>\n",
       "      <td>21.0</td>\n",
       "      <td>1323</td>\n",
       "      <td>0.192458</td>\n",
       "      <td>[1, 1, 1, 1, 1, 1, 1, 1, 1, 0, 0, 0]</td>\n",
       "      <td>geometric</td>\n",
       "      <td>0.5</td>\n",
       "      <td>0.99</td>\n",
       "      <td>0.001</td>\n",
       "      <td>0.499034</td>\n",
       "      <td>0.5</td>\n",
       "      <td>2500</td>\n",
       "    </tr>\n",
       "  </tbody>\n",
       "</table>\n",
       "</div>"
      ],
      "text/plain": [
       "   Iteration  Fitness  FEvals      Time                                 State  \\\n",
       "4       1000     21.0    1323  0.192458  [1, 1, 1, 1, 1, 1, 1, 1, 1, 0, 0, 0]   \n",
       "\n",
       "  schedule_type  schedule_init_temp  schedule_decay  schedule_min_temp  \\\n",
       "4     geometric                 0.5            0.99              0.001   \n",
       "\n",
       "   schedule_current_value Temperature  max_iters  \n",
       "4                0.499034         0.5       2500  "
      ]
     },
     "execution_count": 27,
     "metadata": {},
     "output_type": "execute_result"
    }
   ],
   "source": [
    "min_FEvals=df_sa_stats[df_sa_stats['Fitness']==21]['FEvals'].min()\n",
    "best_param=df_sa_stats[(df_sa_stats['Fitness']==21) & (df_sa_stats['FEvals']==min_FEvals)]\n",
    "best_param"
   ]
  },
  {
   "cell_type": "code",
   "execution_count": 33,
   "metadata": {
    "id": "MguxbXNUas42"
   },
   "outputs": [],
   "source": [
    "# best parameter simulated annealing\n",
    "best_state, best_fitness, fitness_curve_simu =mlr.simulated_annealing(problem=prob, \n",
    "                                                                      schedule=mlr.ExpDecay(init_temp=0.5), \n",
    "                                                                      max_attempts=500, \n",
    "                                                                      max_iters=1000, \n",
    "                                                                      curve=True, random_state=2)"
   ]
  },
  {
   "cell_type": "code",
   "execution_count": 34,
   "metadata": {
    "id": "jLlKhQdobiXp"
   },
   "outputs": [],
   "source": [
    "simu_curve=pd.DataFrame(fitness_curve_simu, columns=['fitness','iterations'])"
   ]
  },
  {
   "cell_type": "code",
   "execution_count": 35,
   "metadata": {
    "colab": {
     "base_uri": "https://localhost:8080/",
     "height": 282
    },
    "id": "JUg-tUAEbpqS",
    "outputId": "1b55b2fa-842b-4d48-c361-07a65403e249"
   },
   "outputs": [
    {
     "data": {
      "text/plain": [
       "[<matplotlib.lines.Line2D at 0x22553fa8e48>]"
      ]
     },
     "execution_count": 35,
     "metadata": {},
     "output_type": "execute_result"
    },
    {
     "data": {
      "image/png": "[encoded data removed]",
      "text/plain": [
       "<Figure size 432x288 with 1 Axes>"
      ]
     },
     "metadata": {
      "needs_background": "light"
     },
     "output_type": "display_data"
    }
   ],
   "source": [
    "plt.plot(simu_curve['iterations'], simu_curve['fitness'])"
   ]
  },
  {
   "cell_type": "markdown",
   "metadata": {
    "id": "dXgPU-_FVGhk"
   },
   "source": [
    "##### genetic algorithm"
   ]
  },
  {
   "cell_type": "code",
   "execution_count": 13,
   "metadata": {},
   "outputs": [],
   "source": [
    "# hyperparameter\n",
    "ga = mlr.GARunner(problem=prob,\n",
    "                   experiment_name='genetic',\n",
    "                   output_directory='content',\n",
    "                   seed=2,\n",
    "                   max_attempts=500,\n",
    "                   iteration_list=[20],\n",
    "                   population_sizes=[500,2000],\n",
    "                   mutation_rates=[0.1, 0.3, 0.7])\n",
    "df_ga_stats, df_ga_curve = ga.run()"
   ]
  },
  {
   "cell_type": "code",
   "execution_count": 14,
   "metadata": {},
   "outputs": [
    {
     "data": {
      "text/html": [
       "<div>\n",
       "<style scoped>\n",
       "    .dataframe tbody tr th:only-of-type {\n",
       "        vertical-align: middle;\n",
       "    }\n",
       "\n",
       "    .dataframe tbody tr th {\n",
       "        vertical-align: top;\n",
       "    }\n",
       "\n",
       "    .dataframe thead th {\n",
       "        text-align: right;\n",
       "    }\n",
       "</style>\n",
       "<table border=\"1\" class=\"dataframe\">\n",
       "  <thead>\n",
       "    <tr style=\"text-align: right;\">\n",
       "      <th></th>\n",
       "      <th>Iteration</th>\n",
       "      <th>Fitness</th>\n",
       "      <th>FEvals</th>\n",
       "      <th>Time</th>\n",
       "      <th>State</th>\n",
       "      <th>Population Size</th>\n",
       "      <th>Mutation Rate</th>\n",
       "      <th>max_iters</th>\n",
       "    </tr>\n",
       "  </thead>\n",
       "  <tbody>\n",
       "    <tr>\n",
       "      <td>3</td>\n",
       "      <td>20</td>\n",
       "      <td>21.0</td>\n",
       "      <td>10525</td>\n",
       "      <td>0.486097</td>\n",
       "      <td>[1, 1, 1, 0, 0, 0, 0, 0, 0, 0, 0, 0]</td>\n",
       "      <td>500</td>\n",
       "      <td>0.3</td>\n",
       "      <td>20</td>\n",
       "    </tr>\n",
       "    <tr>\n",
       "      <td>5</td>\n",
       "      <td>20</td>\n",
       "      <td>21.0</td>\n",
       "      <td>10529</td>\n",
       "      <td>0.508936</td>\n",
       "      <td>[1, 1, 1, 0, 0, 0, 0, 0, 0, 0, 0, 0]</td>\n",
       "      <td>500</td>\n",
       "      <td>0.7</td>\n",
       "      <td>20</td>\n",
       "    </tr>\n",
       "    <tr>\n",
       "      <td>7</td>\n",
       "      <td>20</td>\n",
       "      <td>21.0</td>\n",
       "      <td>42028</td>\n",
       "      <td>2.425034</td>\n",
       "      <td>[1, 1, 1, 0, 0, 0, 0, 0, 0, 0, 0, 0]</td>\n",
       "      <td>2000</td>\n",
       "      <td>0.1</td>\n",
       "      <td>20</td>\n",
       "    </tr>\n",
       "    <tr>\n",
       "      <td>9</td>\n",
       "      <td>20</td>\n",
       "      <td>21.0</td>\n",
       "      <td>42027</td>\n",
       "      <td>2.500701</td>\n",
       "      <td>[1, 1, 1, 0, 0, 0, 0, 0, 0, 0, 0, 0]</td>\n",
       "      <td>2000</td>\n",
       "      <td>0.3</td>\n",
       "      <td>20</td>\n",
       "    </tr>\n",
       "    <tr>\n",
       "      <td>11</td>\n",
       "      <td>20</td>\n",
       "      <td>21.0</td>\n",
       "      <td>42027</td>\n",
       "      <td>2.546975</td>\n",
       "      <td>[1, 1, 1, 0, 0, 0, 0, 0, 0, 0, 0, 0]</td>\n",
       "      <td>2000</td>\n",
       "      <td>0.7</td>\n",
       "      <td>20</td>\n",
       "    </tr>\n",
       "  </tbody>\n",
       "</table>\n",
       "</div>"
      ],
      "text/plain": [
       "    Iteration  Fitness  FEvals      Time  \\\n",
       "3          20     21.0   10525  0.486097   \n",
       "5          20     21.0   10529  0.508936   \n",
       "7          20     21.0   42028  2.425034   \n",
       "9          20     21.0   42027  2.500701   \n",
       "11         20     21.0   42027  2.546975   \n",
       "\n",
       "                                   State  Population Size  Mutation Rate  \\\n",
       "3   [1, 1, 1, 0, 0, 0, 0, 0, 0, 0, 0, 0]              500            0.3   \n",
       "5   [1, 1, 1, 0, 0, 0, 0, 0, 0, 0, 0, 0]              500            0.7   \n",
       "7   [1, 1, 1, 0, 0, 0, 0, 0, 0, 0, 0, 0]             2000            0.1   \n",
       "9   [1, 1, 1, 0, 0, 0, 0, 0, 0, 0, 0, 0]             2000            0.3   \n",
       "11  [1, 1, 1, 0, 0, 0, 0, 0, 0, 0, 0, 0]             2000            0.7   \n",
       "\n",
       "    max_iters  \n",
       "3          20  \n",
       "5          20  \n",
       "7          20  \n",
       "9          20  \n",
       "11         20  "
      ]
     },
     "execution_count": 14,
     "metadata": {},
     "output_type": "execute_result"
    }
   ],
   "source": [
    "df_ga_stats.sort_values(by=['Fitness'], ascending=False).head()"
   ]
  },
  {
   "cell_type": "code",
   "execution_count": 15,
   "metadata": {},
   "outputs": [
    {
     "data": {
      "text/html": [
       "<div>\n",
       "<style scoped>\n",
       "    .dataframe tbody tr th:only-of-type {\n",
       "        vertical-align: middle;\n",
       "    }\n",
       "\n",
       "    .dataframe tbody tr th {\n",
       "        vertical-align: top;\n",
       "    }\n",
       "\n",
       "    .dataframe thead th {\n",
       "        text-align: right;\n",
       "    }\n",
       "</style>\n",
       "<table border=\"1\" class=\"dataframe\">\n",
       "  <thead>\n",
       "    <tr style=\"text-align: right;\">\n",
       "      <th></th>\n",
       "      <th>Iteration</th>\n",
       "      <th>Fitness</th>\n",
       "      <th>FEvals</th>\n",
       "      <th>Time</th>\n",
       "      <th>State</th>\n",
       "      <th>Population Size</th>\n",
       "      <th>Mutation Rate</th>\n",
       "      <th>max_iters</th>\n",
       "    </tr>\n",
       "  </thead>\n",
       "  <tbody>\n",
       "    <tr>\n",
       "      <td>3</td>\n",
       "      <td>20</td>\n",
       "      <td>21.0</td>\n",
       "      <td>10525</td>\n",
       "      <td>0.486097</td>\n",
       "      <td>[1, 1, 1, 0, 0, 0, 0, 0, 0, 0, 0, 0]</td>\n",
       "      <td>500</td>\n",
       "      <td>0.3</td>\n",
       "      <td>20</td>\n",
       "    </tr>\n",
       "  </tbody>\n",
       "</table>\n",
       "</div>"
      ],
      "text/plain": [
       "   Iteration  Fitness  FEvals      Time                                 State  \\\n",
       "3         20     21.0   10525  0.486097  [1, 1, 1, 0, 0, 0, 0, 0, 0, 0, 0, 0]   \n",
       "\n",
       "   Population Size  Mutation Rate  max_iters  \n",
       "3              500            0.3         20  "
      ]
     },
     "execution_count": 15,
     "metadata": {},
     "output_type": "execute_result"
    }
   ],
   "source": [
    "min_FEvals=df_ga_stats[df_ga_stats['Fitness']==21]['FEvals'].min()\n",
    "best_param=df_ga_stats[(df_ga_stats['Fitness']==21) & (df_ga_stats['FEvals']==min_FEvals)]\n",
    "best_param"
   ]
  },
  {
   "cell_type": "code",
   "execution_count": 16,
   "metadata": {
    "id": "v9roUluwcAT-"
   },
   "outputs": [],
   "source": [
    "# genetic algorithm\n",
    "best_state, best_fitness, fitness_curve_gene=mlr.genetic_alg(problem=prob, pop_size=500, \n",
    "                                                             mutation_prob=0.3, max_attempts=500, \n",
    "                                                             max_iters=20, curve=True, random_state=2)"
   ]
  },
  {
   "cell_type": "code",
   "execution_count": 17,
   "metadata": {
    "id": "5gF8P9pPctbe"
   },
   "outputs": [],
   "source": [
    "gene_curve=pd.DataFrame(fitness_curve_gene, columns=['fitness','iterations'])"
   ]
  },
  {
   "cell_type": "code",
   "execution_count": 18,
   "metadata": {
    "colab": {
     "base_uri": "https://localhost:8080/",
     "height": 282
    },
    "id": "vVBU7TM3cxwA",
    "outputId": "9c9155a7-0204-427c-e912-e871288ceb2f"
   },
   "outputs": [
    {
     "data": {
      "text/plain": [
       "[<matplotlib.lines.Line2D at 0x225538a7588>]"
      ]
     },
     "execution_count": 18,
     "metadata": {},
     "output_type": "execute_result"
    },
    {
     "data": {
      "image/png": "[encoded data removed]",
      "text/plain": [
       "<Figure size 432x288 with 1 Axes>"
      ]
     },
     "metadata": {
      "needs_background": "light"
     },
     "output_type": "display_data"
    }
   ],
   "source": [
    "plt.plot(gene_curve['iterations'], gene_curve['fitness'])"
   ]
  },
  {
   "cell_type": "markdown",
   "metadata": {},
   "source": [
    "##### MIMIC"
   ]
  },
  {
   "cell_type": "code",
   "execution_count": 20,
   "metadata": {},
   "outputs": [],
   "source": [
    "# hyperparameter\n",
    "mimi = mlr.MIMICRunner(problem=prob,\n",
    "                       experiment_name='mimic',\n",
    "                       output_directory='content',\n",
    "                       seed=2,\n",
    "                       population_sizes=[500, 1000, 2500],\n",
    "                       keep_percent_list=[0.1,0.2],\n",
    "                       iteration_list=[20, 200],\n",
    "                       max_attempts=500,\n",
    "                       use_fast_mimic=True)\n",
    "df_mimi_stats, df_mimi_curve = mimi.run()"
   ]
  },
  {
   "cell_type": "code",
   "execution_count": 21,
   "metadata": {},
   "outputs": [
    {
     "data": {
      "text/html": [
       "<div>\n",
       "<style scoped>\n",
       "    .dataframe tbody tr th:only-of-type {\n",
       "        vertical-align: middle;\n",
       "    }\n",
       "\n",
       "    .dataframe tbody tr th {\n",
       "        vertical-align: top;\n",
       "    }\n",
       "\n",
       "    .dataframe thead th {\n",
       "        text-align: right;\n",
       "    }\n",
       "</style>\n",
       "<table border=\"1\" class=\"dataframe\">\n",
       "  <thead>\n",
       "    <tr style=\"text-align: right;\">\n",
       "      <th></th>\n",
       "      <th>Iteration</th>\n",
       "      <th>Fitness</th>\n",
       "      <th>FEvals</th>\n",
       "      <th>Time</th>\n",
       "      <th>State</th>\n",
       "      <th>use_fast_mimic</th>\n",
       "      <th>Population Size</th>\n",
       "      <th>Keep Percent</th>\n",
       "      <th>max_iters</th>\n",
       "    </tr>\n",
       "  </thead>\n",
       "  <tbody>\n",
       "    <tr>\n",
       "      <td>13</td>\n",
       "      <td>20</td>\n",
       "      <td>20.0</td>\n",
       "      <td>52526</td>\n",
       "      <td>1.364190</td>\n",
       "      <td>[1.0, 1.0, 1.0, 1.0, 1.0, 1.0, 1.0, 1.0, 5.0, ...</td>\n",
       "      <td>True</td>\n",
       "      <td>2500</td>\n",
       "      <td>0.1</td>\n",
       "      <td>200</td>\n",
       "    </tr>\n",
       "    <tr>\n",
       "      <td>14</td>\n",
       "      <td>200</td>\n",
       "      <td>20.0</td>\n",
       "      <td>502706</td>\n",
       "      <td>15.576189</td>\n",
       "      <td>[1.0, 1.0, 1.0, 1.0, 1.0, 1.0, 1.0, 1.0, 5.0, ...</td>\n",
       "      <td>True</td>\n",
       "      <td>2500</td>\n",
       "      <td>0.1</td>\n",
       "      <td>200</td>\n",
       "    </tr>\n",
       "    <tr>\n",
       "      <td>17</td>\n",
       "      <td>200</td>\n",
       "      <td>17.0</td>\n",
       "      <td>502705</td>\n",
       "      <td>14.612180</td>\n",
       "      <td>[1.0, 1.0, 1.0, 1.0, 4.0, 5.0, 4.0, 0.0, 0.0, ...</td>\n",
       "      <td>True</td>\n",
       "      <td>2500</td>\n",
       "      <td>0.2</td>\n",
       "      <td>200</td>\n",
       "    </tr>\n",
       "    <tr>\n",
       "      <td>2</td>\n",
       "      <td>200</td>\n",
       "      <td>16.0</td>\n",
       "      <td>100702</td>\n",
       "      <td>4.856371</td>\n",
       "      <td>[1.0, 1.0, 1.0, 3.0, 5.0, 6.0, 6.0, 5.0, 0.0, ...</td>\n",
       "      <td>True</td>\n",
       "      <td>500</td>\n",
       "      <td>0.1</td>\n",
       "      <td>200</td>\n",
       "    </tr>\n",
       "    <tr>\n",
       "      <td>16</td>\n",
       "      <td>20</td>\n",
       "      <td>16.0</td>\n",
       "      <td>52524</td>\n",
       "      <td>1.491355</td>\n",
       "      <td>[1.0, 1.0, 1.0, 5.0, 6.0, 1.0, 6.0, 5.0, 0.0, ...</td>\n",
       "      <td>True</td>\n",
       "      <td>2500</td>\n",
       "      <td>0.2</td>\n",
       "      <td>200</td>\n",
       "    </tr>\n",
       "  </tbody>\n",
       "</table>\n",
       "</div>"
      ],
      "text/plain": [
       "    Iteration  Fitness  FEvals       Time  \\\n",
       "13         20     20.0   52526   1.364190   \n",
       "14        200     20.0  502706  15.576189   \n",
       "17        200     17.0  502705  14.612180   \n",
       "2         200     16.0  100702   4.856371   \n",
       "16         20     16.0   52524   1.491355   \n",
       "\n",
       "                                                State  use_fast_mimic  \\\n",
       "13  [1.0, 1.0, 1.0, 1.0, 1.0, 1.0, 1.0, 1.0, 5.0, ...            True   \n",
       "14  [1.0, 1.0, 1.0, 1.0, 1.0, 1.0, 1.0, 1.0, 5.0, ...            True   \n",
       "17  [1.0, 1.0, 1.0, 1.0, 4.0, 5.0, 4.0, 0.0, 0.0, ...            True   \n",
       "2   [1.0, 1.0, 1.0, 3.0, 5.0, 6.0, 6.0, 5.0, 0.0, ...            True   \n",
       "16  [1.0, 1.0, 1.0, 5.0, 6.0, 1.0, 6.0, 5.0, 0.0, ...            True   \n",
       "\n",
       "    Population Size  Keep Percent  max_iters  \n",
       "13             2500           0.1        200  \n",
       "14             2500           0.1        200  \n",
       "17             2500           0.2        200  \n",
       "2               500           0.1        200  \n",
       "16             2500           0.2        200  "
      ]
     },
     "execution_count": 21,
     "metadata": {},
     "output_type": "execute_result"
    }
   ],
   "source": [
    "df_mimi_stats.sort_values(by=['Fitness'], ascending=False).head()"
   ]
  },
  {
   "cell_type": "code",
   "execution_count": 22,
   "metadata": {},
   "outputs": [
    {
     "data": {
      "text/html": [
       "<div>\n",
       "<style scoped>\n",
       "    .dataframe tbody tr th:only-of-type {\n",
       "        vertical-align: middle;\n",
       "    }\n",
       "\n",
       "    .dataframe tbody tr th {\n",
       "        vertical-align: top;\n",
       "    }\n",
       "\n",
       "    .dataframe thead th {\n",
       "        text-align: right;\n",
       "    }\n",
       "</style>\n",
       "<table border=\"1\" class=\"dataframe\">\n",
       "  <thead>\n",
       "    <tr style=\"text-align: right;\">\n",
       "      <th></th>\n",
       "      <th>Iteration</th>\n",
       "      <th>Fitness</th>\n",
       "      <th>FEvals</th>\n",
       "      <th>Time</th>\n",
       "      <th>State</th>\n",
       "      <th>use_fast_mimic</th>\n",
       "      <th>Population Size</th>\n",
       "      <th>Keep Percent</th>\n",
       "      <th>max_iters</th>\n",
       "    </tr>\n",
       "  </thead>\n",
       "  <tbody>\n",
       "    <tr>\n",
       "      <td>13</td>\n",
       "      <td>20</td>\n",
       "      <td>20.0</td>\n",
       "      <td>52526</td>\n",
       "      <td>1.36419</td>\n",
       "      <td>[1.0, 1.0, 1.0, 1.0, 1.0, 1.0, 1.0, 1.0, 5.0, ...</td>\n",
       "      <td>True</td>\n",
       "      <td>2500</td>\n",
       "      <td>0.1</td>\n",
       "      <td>200</td>\n",
       "    </tr>\n",
       "  </tbody>\n",
       "</table>\n",
       "</div>"
      ],
      "text/plain": [
       "    Iteration  Fitness  FEvals     Time  \\\n",
       "13         20     20.0   52526  1.36419   \n",
       "\n",
       "                                                State  use_fast_mimic  \\\n",
       "13  [1.0, 1.0, 1.0, 1.0, 1.0, 1.0, 1.0, 1.0, 5.0, ...            True   \n",
       "\n",
       "    Population Size  Keep Percent  max_iters  \n",
       "13             2500           0.1        200  "
      ]
     },
     "execution_count": 22,
     "metadata": {},
     "output_type": "execute_result"
    }
   ],
   "source": [
    "min_FEvals=df_mimi_stats[df_mimi_stats['Fitness']==20]['FEvals'].min()\n",
    "best_param=df_mimi_stats[(df_mimi_stats['Fitness']==20) & (df_mimi_stats['FEvals']==min_FEvals)]\n",
    "best_param"
   ]
  },
  {
   "cell_type": "code",
   "execution_count": 26,
   "metadata": {
    "id": "qM2TkmWEw9xL"
   },
   "outputs": [],
   "source": [
    "# MIMIC\n",
    "best_state, best_fitness, fitness_curve_mimi=mlr.mimic\\\n",
    "(problem=prob,pop_size=2500, keep_pct=0.1, max_attempts=500, max_iters=200, curve=True, random_state=2)"
   ]
  },
  {
   "cell_type": "code",
   "execution_count": 27,
   "metadata": {
    "id": "IoE7Hl_WxziR"
   },
   "outputs": [],
   "source": [
    "mimi_curve=pd.DataFrame(fitness_curve_mimi, columns=['fitness','iterations'])"
   ]
  },
  {
   "cell_type": "code",
   "execution_count": 28,
   "metadata": {
    "colab": {
     "base_uri": "https://localhost:8080/",
     "height": 282
    },
    "id": "OLgYsA1ux6Gk",
    "outputId": "ba6d8d17-615c-4cd8-adc1-1afdab6d1184"
   },
   "outputs": [
    {
     "data": {
      "text/plain": [
       "[<matplotlib.lines.Line2D at 0x22553f0ef48>]"
      ]
     },
     "execution_count": 28,
     "metadata": {},
     "output_type": "execute_result"
    },
    {
     "data": {
      "image/png": "[encoded data removed]",
      "text/plain": [
       "<Figure size 432x288 with 1 Axes>"
      ]
     },
     "metadata": {
      "needs_background": "light"
     },
     "output_type": "display_data"
    }
   ],
   "source": [
    "plt.plot(mimi_curve['iterations'], mimi_curve['fitness'])"
   ]
  },
  {
   "cell_type": "code",
   "execution_count": 39,
   "metadata": {
    "id": "9vBHB4-hAbP5"
   },
   "outputs": [
    {
     "data": {
      "image/png": "[encoded data removed]",
      "text/plain": [
       "<Figure size 576x360 with 1 Axes>"
      ]
     },
     "metadata": {
      "needs_background": "light"
     },
     "output_type": "display_data"
    }
   ],
   "source": [
    "fig1=plt.figure(figsize=(8,5))\n",
    "plt.plot(rhc_curve['iterations'], rhc_curve['fitness'], marker='o', label='rhc')\n",
    "plt.plot(simu_curve['iterations'], simu_curve['fitness'], marker='o', label='simulated annealing')\n",
    "plt.plot(gene_curve['iterations'], gene_curve['fitness'], marker='o', label='genetic')\n",
    "plt.plot(mimi_curve['iterations'], mimi_curve['fitness'], marker='o', label='MIMIC')\n",
    "plt.legend()\n",
    "plt.title('Optimization algorithms comparison')\n",
    "plt.xlabel('iteration')\n",
    "plt.ylabel('fitness')\n",
    "plt.show()"
   ]
  },
  {
   "cell_type": "markdown",
   "metadata": {
    "id": "Eo3gp3BIyCg_"
   },
   "source": [
    "### K-color"
   ]
  },
  {
   "cell_type": "code",
   "execution_count": 274,
   "metadata": {},
   "outputs": [],
   "source": [
    "class maximize(MaxKColorGenerator):      \n",
    "    def generate(self,seed, number_of_nodes=20, max_connections_per_node=4, max_colors=None, maximize=True):\n",
    "        MaxKColorGenerator.generate(seed=seed, number_of_nodes=number_of_nodes, \n",
    "                                    max_connections_per_node=max_connections_per_node, max_colors=max_colors)\n",
    "        problem= MaxKColorOpt(edges=edges, length=number_of_nodes, max_colors=max_colors, maximize=maximize)\n",
    "        return problem        "
   ]
  },
  {
   "cell_type": "code",
   "execution_count": 302,
   "metadata": {},
   "outputs": [],
   "source": [
    "prob=maximize().generate(seed=2, number_of_nodes=100, max_connections_per_node=10, max_colors=15,maximize=True)"
   ]
  },
  {
   "cell_type": "code",
   "execution_count": 307,
   "metadata": {},
   "outputs": [],
   "source": [
    "# Turining parameters\n",
    "#prob=k_maxkcolor_prob(5)\n",
    "rhc=mlr.RHCRunner(problem=prob, experiment_name='rhc', output_directory='content', seed=2, \n",
    "                  max_attempts=500, iteration_list=[500, 1000, 2500], restart_list=[10])\n",
    "df_rhc_stats, df_rhc_curve = rhc.run()"
   ]
  },
  {
   "cell_type": "code",
   "execution_count": 308,
   "metadata": {},
   "outputs": [
    {
     "data": {
      "text/html": [
       "<div>\n",
       "<style scoped>\n",
       "    .dataframe tbody tr th:only-of-type {\n",
       "        vertical-align: middle;\n",
       "    }\n",
       "\n",
       "    .dataframe tbody tr th {\n",
       "        vertical-align: top;\n",
       "    }\n",
       "\n",
       "    .dataframe thead th {\n",
       "        text-align: right;\n",
       "    }\n",
       "</style>\n",
       "<table border=\"1\" class=\"dataframe\">\n",
       "  <thead>\n",
       "    <tr style=\"text-align: right;\">\n",
       "      <th></th>\n",
       "      <th>Iteration</th>\n",
       "      <th>Fitness</th>\n",
       "      <th>FEvals</th>\n",
       "      <th>Time</th>\n",
       "      <th>State</th>\n",
       "      <th>Restarts</th>\n",
       "      <th>max_iters</th>\n",
       "      <th>current_restart</th>\n",
       "    </tr>\n",
       "  </thead>\n",
       "  <tbody>\n",
       "    <tr>\n",
       "      <td>1</td>\n",
       "      <td>500</td>\n",
       "      <td>2.0</td>\n",
       "      <td>501</td>\n",
       "      <td>0.068735</td>\n",
       "      <td>[8, 13, 8, 11, 11, 2, 11, 8, 7, 2, 1, 11, 5, 1...</td>\n",
       "      <td>10</td>\n",
       "      <td>2500</td>\n",
       "      <td>0</td>\n",
       "    </tr>\n",
       "    <tr>\n",
       "      <td>2</td>\n",
       "      <td>1000</td>\n",
       "      <td>2.0</td>\n",
       "      <td>788</td>\n",
       "      <td>0.144511</td>\n",
       "      <td>[8, 13, 8, 11, 11, 2, 11, 8, 7, 2, 1, 11, 5, 1...</td>\n",
       "      <td>10</td>\n",
       "      <td>2500</td>\n",
       "      <td>0</td>\n",
       "    </tr>\n",
       "    <tr>\n",
       "      <td>3</td>\n",
       "      <td>2500</td>\n",
       "      <td>2.0</td>\n",
       "      <td>788</td>\n",
       "      <td>0.144511</td>\n",
       "      <td>[8, 13, 8, 11, 11, 2, 11, 8, 7, 2, 1, 11, 5, 1...</td>\n",
       "      <td>10</td>\n",
       "      <td>2500</td>\n",
       "      <td>0</td>\n",
       "    </tr>\n",
       "    <tr>\n",
       "      <td>0</td>\n",
       "      <td>0</td>\n",
       "      <td>1.0</td>\n",
       "      <td>0</td>\n",
       "      <td>0.000155</td>\n",
       "      <td>[8, 13, 8, 6, 11, 2, 11, 8, 7, 2, 1, 11, 5, 10...</td>\n",
       "      <td>10</td>\n",
       "      <td>2500</td>\n",
       "      <td>0</td>\n",
       "    </tr>\n",
       "    <tr>\n",
       "      <td>4</td>\n",
       "      <td>0</td>\n",
       "      <td>0.0</td>\n",
       "      <td>788</td>\n",
       "      <td>0.160738</td>\n",
       "      <td>[10, 9, 13, 0, 13, 9, 5, 14, 11, 14, 6, 1, 6, ...</td>\n",
       "      <td>10</td>\n",
       "      <td>2500</td>\n",
       "      <td>1</td>\n",
       "    </tr>\n",
       "  </tbody>\n",
       "</table>\n",
       "</div>"
      ],
      "text/plain": [
       "   Iteration  Fitness  FEvals      Time  \\\n",
       "1        500      2.0     501  0.068735   \n",
       "2       1000      2.0     788  0.144511   \n",
       "3       2500      2.0     788  0.144511   \n",
       "0          0      1.0       0  0.000155   \n",
       "4          0      0.0     788  0.160738   \n",
       "\n",
       "                                               State  Restarts  max_iters  \\\n",
       "1  [8, 13, 8, 11, 11, 2, 11, 8, 7, 2, 1, 11, 5, 1...        10       2500   \n",
       "2  [8, 13, 8, 11, 11, 2, 11, 8, 7, 2, 1, 11, 5, 1...        10       2500   \n",
       "3  [8, 13, 8, 11, 11, 2, 11, 8, 7, 2, 1, 11, 5, 1...        10       2500   \n",
       "0  [8, 13, 8, 6, 11, 2, 11, 8, 7, 2, 1, 11, 5, 10...        10       2500   \n",
       "4  [10, 9, 13, 0, 13, 9, 5, 14, 11, 14, 6, 1, 6, ...        10       2500   \n",
       "\n",
       "   current_restart  \n",
       "1                0  \n",
       "2                0  \n",
       "3                0  \n",
       "0                0  \n",
       "4                1  "
      ]
     },
     "execution_count": 308,
     "metadata": {},
     "output_type": "execute_result"
    }
   ],
   "source": [
    "df_rhc_stats.sort_values(by=['Fitness'], ascending=False).head()"
   ]
  },
  {
   "cell_type": "code",
   "execution_count": 309,
   "metadata": {},
   "outputs": [
    {
     "data": {
      "text/html": [
       "<div>\n",
       "<style scoped>\n",
       "    .dataframe tbody tr th:only-of-type {\n",
       "        vertical-align: middle;\n",
       "    }\n",
       "\n",
       "    .dataframe tbody tr th {\n",
       "        vertical-align: top;\n",
       "    }\n",
       "\n",
       "    .dataframe thead th {\n",
       "        text-align: right;\n",
       "    }\n",
       "</style>\n",
       "<table border=\"1\" class=\"dataframe\">\n",
       "  <thead>\n",
       "    <tr style=\"text-align: right;\">\n",
       "      <th></th>\n",
       "      <th>Iteration</th>\n",
       "      <th>Fitness</th>\n",
       "      <th>FEvals</th>\n",
       "      <th>Time</th>\n",
       "      <th>State</th>\n",
       "      <th>Restarts</th>\n",
       "      <th>max_iters</th>\n",
       "      <th>current_restart</th>\n",
       "    </tr>\n",
       "  </thead>\n",
       "  <tbody>\n",
       "    <tr>\n",
       "      <td>1</td>\n",
       "      <td>500</td>\n",
       "      <td>2.0</td>\n",
       "      <td>501</td>\n",
       "      <td>0.068735</td>\n",
       "      <td>[8, 13, 8, 11, 11, 2, 11, 8, 7, 2, 1, 11, 5, 1...</td>\n",
       "      <td>10</td>\n",
       "      <td>2500</td>\n",
       "      <td>0</td>\n",
       "    </tr>\n",
       "  </tbody>\n",
       "</table>\n",
       "</div>"
      ],
      "text/plain": [
       "   Iteration  Fitness  FEvals      Time  \\\n",
       "1        500      2.0     501  0.068735   \n",
       "\n",
       "                                               State  Restarts  max_iters  \\\n",
       "1  [8, 13, 8, 11, 11, 2, 11, 8, 7, 2, 1, 11, 5, 1...        10       2500   \n",
       "\n",
       "   current_restart  \n",
       "1                0  "
      ]
     },
     "execution_count": 309,
     "metadata": {},
     "output_type": "execute_result"
    }
   ],
   "source": [
    "min_FEvals=df_rhc_stats[df_rhc_stats['Fitness']==2]['FEvals'].min()\n",
    "best_param=df_rhc_stats[(df_rhc_stats['Fitness']==2) & (df_rhc_stats['FEvals']==min_FEvals)]\n",
    "best_param"
   ]
  },
  {
   "cell_type": "code",
   "execution_count": 310,
   "metadata": {
    "colab": {
     "base_uri": "https://localhost:8080/",
     "height": 282
    },
    "id": "Ct8N24ep6xki",
    "outputId": "f75911c0-fb62-408c-e2d8-a9c9bfec9fc4"
   },
   "outputs": [
    {
     "data": {
      "text/plain": [
       "[<matplotlib.lines.Line2D at 0x2255d06e648>]"
      ]
     },
     "execution_count": 310,
     "metadata": {},
     "output_type": "execute_result"
    },
    {
     "data": {
      "image/png": "[encoded data removed]",
      "text/plain": [
       "<Figure size 432x288 with 1 Axes>"
      ]
     },
     "metadata": {
      "needs_background": "light"
     },
     "output_type": "display_data"
    }
   ],
   "source": [
    "# random hill climbing\n",
    "best_state, best_fitness, fitness_curve_rhc = mlr.random_hill_climb(problem=prob, max_attempts = 500, \n",
    "                                                                      max_iters = 500, curve=True, \n",
    "                                                                      random_state=2, restarts=0)\n",
    "\n",
    "rhc_curve=pd.DataFrame(fitness_curve_rhc, columns=['fitness','iterations'])\n",
    "plt.plot(rhc_curve['iterations'], rhc_curve['fitness'])"
   ]
  },
  {
   "cell_type": "markdown",
   "metadata": {},
   "source": [
    "##### Simulated annealing"
   ]
  },
  {
   "cell_type": "code",
   "execution_count": 311,
   "metadata": {},
   "outputs": [],
   "source": [
    "# hyper parameters\n",
    "sa = mlr.SARunner(problem=prob, experiment_name='sa', output_directory='content', seed=2,\n",
    "                  max_attempts=500, iteration_list=[1000, 2500],\n",
    "                  temperature_list=[0.1, 0.5, 1, 10, 20])\n",
    "df_sa_stats, df_sa_curve = sa.run()"
   ]
  },
  {
   "cell_type": "code",
   "execution_count": 312,
   "metadata": {},
   "outputs": [
    {
     "data": {
      "text/html": [
       "<div>\n",
       "<style scoped>\n",
       "    .dataframe tbody tr th:only-of-type {\n",
       "        vertical-align: middle;\n",
       "    }\n",
       "\n",
       "    .dataframe tbody tr th {\n",
       "        vertical-align: top;\n",
       "    }\n",
       "\n",
       "    .dataframe thead th {\n",
       "        text-align: right;\n",
       "    }\n",
       "</style>\n",
       "<table border=\"1\" class=\"dataframe\">\n",
       "  <thead>\n",
       "    <tr style=\"text-align: right;\">\n",
       "      <th></th>\n",
       "      <th>Iteration</th>\n",
       "      <th>Fitness</th>\n",
       "      <th>FEvals</th>\n",
       "      <th>Time</th>\n",
       "      <th>State</th>\n",
       "      <th>schedule_type</th>\n",
       "      <th>schedule_init_temp</th>\n",
       "      <th>schedule_decay</th>\n",
       "      <th>schedule_min_temp</th>\n",
       "      <th>schedule_current_value</th>\n",
       "      <th>Temperature</th>\n",
       "      <th>max_iters</th>\n",
       "    </tr>\n",
       "  </thead>\n",
       "  <tbody>\n",
       "    <tr>\n",
       "      <td>1</td>\n",
       "      <td>1000</td>\n",
       "      <td>3.0</td>\n",
       "      <td>1965</td>\n",
       "      <td>0.195572</td>\n",
       "      <td>[3, 3, 0, 0, 0, 14, 14, 9, 1, 12, 9, 8, 12, 4,...</td>\n",
       "      <td>geometric</td>\n",
       "      <td>0.1</td>\n",
       "      <td>0.99</td>\n",
       "      <td>0.001</td>\n",
       "      <td>0.099804</td>\n",
       "      <td>0.1</td>\n",
       "      <td>2500</td>\n",
       "    </tr>\n",
       "    <tr>\n",
       "      <td>2</td>\n",
       "      <td>2500</td>\n",
       "      <td>3.0</td>\n",
       "      <td>4895</td>\n",
       "      <td>1.048269</td>\n",
       "      <td>[3, 0, 3, 0, 0, 4, 4, 12, 1, 4, 11, 13, 2, 4, ...</td>\n",
       "      <td>geometric</td>\n",
       "      <td>0.1</td>\n",
       "      <td>0.99</td>\n",
       "      <td>0.001</td>\n",
       "      <td>0.098952</td>\n",
       "      <td>0.1</td>\n",
       "      <td>2500</td>\n",
       "    </tr>\n",
       "    <tr>\n",
       "      <td>4</td>\n",
       "      <td>1000</td>\n",
       "      <td>3.0</td>\n",
       "      <td>1965</td>\n",
       "      <td>0.209066</td>\n",
       "      <td>[3, 3, 0, 0, 0, 14, 14, 9, 1, 12, 9, 8, 12, 4,...</td>\n",
       "      <td>geometric</td>\n",
       "      <td>0.5</td>\n",
       "      <td>0.99</td>\n",
       "      <td>0.001</td>\n",
       "      <td>0.498951</td>\n",
       "      <td>0.5</td>\n",
       "      <td>2500</td>\n",
       "    </tr>\n",
       "    <tr>\n",
       "      <td>5</td>\n",
       "      <td>2500</td>\n",
       "      <td>3.0</td>\n",
       "      <td>4895</td>\n",
       "      <td>1.085809</td>\n",
       "      <td>[3, 0, 3, 0, 0, 4, 4, 12, 1, 4, 11, 13, 2, 4, ...</td>\n",
       "      <td>geometric</td>\n",
       "      <td>0.5</td>\n",
       "      <td>0.99</td>\n",
       "      <td>0.001</td>\n",
       "      <td>0.494573</td>\n",
       "      <td>0.5</td>\n",
       "      <td>2500</td>\n",
       "    </tr>\n",
       "    <tr>\n",
       "      <td>7</td>\n",
       "      <td>1000</td>\n",
       "      <td>3.0</td>\n",
       "      <td>1965</td>\n",
       "      <td>0.232360</td>\n",
       "      <td>[3, 3, 0, 0, 0, 14, 14, 9, 1, 12, 9, 8, 12, 4,...</td>\n",
       "      <td>geometric</td>\n",
       "      <td>1.0</td>\n",
       "      <td>0.99</td>\n",
       "      <td>0.001</td>\n",
       "      <td>0.997667</td>\n",
       "      <td>1</td>\n",
       "      <td>2500</td>\n",
       "    </tr>\n",
       "  </tbody>\n",
       "</table>\n",
       "</div>"
      ],
      "text/plain": [
       "   Iteration  Fitness  FEvals      Time  \\\n",
       "1       1000      3.0    1965  0.195572   \n",
       "2       2500      3.0    4895  1.048269   \n",
       "4       1000      3.0    1965  0.209066   \n",
       "5       2500      3.0    4895  1.085809   \n",
       "7       1000      3.0    1965  0.232360   \n",
       "\n",
       "                                               State schedule_type  \\\n",
       "1  [3, 3, 0, 0, 0, 14, 14, 9, 1, 12, 9, 8, 12, 4,...     geometric   \n",
       "2  [3, 0, 3, 0, 0, 4, 4, 12, 1, 4, 11, 13, 2, 4, ...     geometric   \n",
       "4  [3, 3, 0, 0, 0, 14, 14, 9, 1, 12, 9, 8, 12, 4,...     geometric   \n",
       "5  [3, 0, 3, 0, 0, 4, 4, 12, 1, 4, 11, 13, 2, 4, ...     geometric   \n",
       "7  [3, 3, 0, 0, 0, 14, 14, 9, 1, 12, 9, 8, 12, 4,...     geometric   \n",
       "\n",
       "   schedule_init_temp  schedule_decay  schedule_min_temp  \\\n",
       "1                 0.1            0.99              0.001   \n",
       "2                 0.1            0.99              0.001   \n",
       "4                 0.5            0.99              0.001   \n",
       "5                 0.5            0.99              0.001   \n",
       "7                 1.0            0.99              0.001   \n",
       "\n",
       "   schedule_current_value Temperature  max_iters  \n",
       "1                0.099804         0.1       2500  \n",
       "2                0.098952         0.1       2500  \n",
       "4                0.498951         0.5       2500  \n",
       "5                0.494573         0.5       2500  \n",
       "7                0.997667           1       2500  "
      ]
     },
     "execution_count": 312,
     "metadata": {},
     "output_type": "execute_result"
    }
   ],
   "source": [
    "df_sa_stats.sort_values(by=['Fitness'], ascending=False).head()"
   ]
  },
  {
   "cell_type": "code",
   "execution_count": 313,
   "metadata": {},
   "outputs": [
    {
     "data": {
      "text/html": [
       "<div>\n",
       "<style scoped>\n",
       "    .dataframe tbody tr th:only-of-type {\n",
       "        vertical-align: middle;\n",
       "    }\n",
       "\n",
       "    .dataframe tbody tr th {\n",
       "        vertical-align: top;\n",
       "    }\n",
       "\n",
       "    .dataframe thead th {\n",
       "        text-align: right;\n",
       "    }\n",
       "</style>\n",
       "<table border=\"1\" class=\"dataframe\">\n",
       "  <thead>\n",
       "    <tr style=\"text-align: right;\">\n",
       "      <th></th>\n",
       "      <th>Iteration</th>\n",
       "      <th>Fitness</th>\n",
       "      <th>FEvals</th>\n",
       "      <th>Time</th>\n",
       "      <th>State</th>\n",
       "      <th>schedule_type</th>\n",
       "      <th>schedule_init_temp</th>\n",
       "      <th>schedule_decay</th>\n",
       "      <th>schedule_min_temp</th>\n",
       "      <th>schedule_current_value</th>\n",
       "      <th>Temperature</th>\n",
       "      <th>max_iters</th>\n",
       "    </tr>\n",
       "  </thead>\n",
       "  <tbody>\n",
       "    <tr>\n",
       "      <td>1</td>\n",
       "      <td>1000</td>\n",
       "      <td>3.0</td>\n",
       "      <td>1965</td>\n",
       "      <td>0.195572</td>\n",
       "      <td>[3, 3, 0, 0, 0, 14, 14, 9, 1, 12, 9, 8, 12, 4,...</td>\n",
       "      <td>geometric</td>\n",
       "      <td>0.1</td>\n",
       "      <td>0.99</td>\n",
       "      <td>0.001</td>\n",
       "      <td>0.099804</td>\n",
       "      <td>0.1</td>\n",
       "      <td>2500</td>\n",
       "    </tr>\n",
       "    <tr>\n",
       "      <td>4</td>\n",
       "      <td>1000</td>\n",
       "      <td>3.0</td>\n",
       "      <td>1965</td>\n",
       "      <td>0.209066</td>\n",
       "      <td>[3, 3, 0, 0, 0, 14, 14, 9, 1, 12, 9, 8, 12, 4,...</td>\n",
       "      <td>geometric</td>\n",
       "      <td>0.5</td>\n",
       "      <td>0.99</td>\n",
       "      <td>0.001</td>\n",
       "      <td>0.498951</td>\n",
       "      <td>0.5</td>\n",
       "      <td>2500</td>\n",
       "    </tr>\n",
       "    <tr>\n",
       "      <td>7</td>\n",
       "      <td>1000</td>\n",
       "      <td>3.0</td>\n",
       "      <td>1965</td>\n",
       "      <td>0.232360</td>\n",
       "      <td>[3, 3, 0, 0, 0, 14, 14, 9, 1, 12, 9, 8, 12, 4,...</td>\n",
       "      <td>geometric</td>\n",
       "      <td>1.0</td>\n",
       "      <td>0.99</td>\n",
       "      <td>0.001</td>\n",
       "      <td>0.997667</td>\n",
       "      <td>1</td>\n",
       "      <td>2500</td>\n",
       "    </tr>\n",
       "  </tbody>\n",
       "</table>\n",
       "</div>"
      ],
      "text/plain": [
       "   Iteration  Fitness  FEvals      Time  \\\n",
       "1       1000      3.0    1965  0.195572   \n",
       "4       1000      3.0    1965  0.209066   \n",
       "7       1000      3.0    1965  0.232360   \n",
       "\n",
       "                                               State schedule_type  \\\n",
       "1  [3, 3, 0, 0, 0, 14, 14, 9, 1, 12, 9, 8, 12, 4,...     geometric   \n",
       "4  [3, 3, 0, 0, 0, 14, 14, 9, 1, 12, 9, 8, 12, 4,...     geometric   \n",
       "7  [3, 3, 0, 0, 0, 14, 14, 9, 1, 12, 9, 8, 12, 4,...     geometric   \n",
       "\n",
       "   schedule_init_temp  schedule_decay  schedule_min_temp  \\\n",
       "1                 0.1            0.99              0.001   \n",
       "4                 0.5            0.99              0.001   \n",
       "7                 1.0            0.99              0.001   \n",
       "\n",
       "   schedule_current_value Temperature  max_iters  \n",
       "1                0.099804         0.1       2500  \n",
       "4                0.498951         0.5       2500  \n",
       "7                0.997667           1       2500  "
      ]
     },
     "execution_count": 313,
     "metadata": {},
     "output_type": "execute_result"
    }
   ],
   "source": [
    "min_FEvals=df_sa_stats[df_sa_stats['Fitness']==3]['FEvals'].min()\n",
    "best_param=df_sa_stats[(df_sa_stats['Fitness']==3) & (df_sa_stats['FEvals']==min_FEvals)]\n",
    "best_param"
   ]
  },
  {
   "cell_type": "code",
   "execution_count": 304,
   "metadata": {
    "colab": {
     "base_uri": "https://localhost:8080/",
     "height": 282
    },
    "id": "wykvcERN7N3z",
    "outputId": "5a1ed809-d16e-40a9-8bf0-f2ea2073ce48"
   },
   "outputs": [
    {
     "data": {
      "text/plain": [
       "[<matplotlib.lines.Line2D at 0x2255cf787c8>]"
      ]
     },
     "execution_count": 304,
     "metadata": {},
     "output_type": "execute_result"
    },
    {
     "data": {
      "image/png": "[encoded data removed]",
      "text/plain": [
       "<Figure size 432x288 with 1 Axes>"
      ]
     },
     "metadata": {
      "needs_background": "light"
     },
     "output_type": "display_data"
    }
   ],
   "source": [
    "# simulated annealing\n",
    "best_state, best_fitness, fitness_curve_simu = mlr.simulated_annealing\\\n",
    "(problem=prob, schedule=mlr.ExpDecay(init_temp=0.1), max_attempts = 500, max_iters = 1000, curve=True, random_state=2)\n",
    "\n",
    "simu_curve=pd.DataFrame(fitness_curve_simu, columns=['fitness','iterations'])\n",
    "plt.plot(simu_curve['iterations'], simu_curve['fitness'])"
   ]
  },
  {
   "cell_type": "markdown",
   "metadata": {},
   "source": [
    "##### Genetic"
   ]
  },
  {
   "cell_type": "code",
   "execution_count": 314,
   "metadata": {},
   "outputs": [],
   "source": [
    "# hyperparameter\n",
    "ga = mlr.GARunner(problem=prob,\n",
    "                   experiment_name='genetic',\n",
    "                   output_directory='content',\n",
    "                   seed=2,\n",
    "                   max_attempts=500,\n",
    "                   iteration_list=[20],\n",
    "                   population_sizes=[500,2000],\n",
    "                   mutation_rates=[0.1, 0.3, 0.7])\n",
    "df_ga_stats, df_ga_curve = ga.run()"
   ]
  },
  {
   "cell_type": "code",
   "execution_count": 315,
   "metadata": {},
   "outputs": [
    {
     "data": {
      "text/html": [
       "<div>\n",
       "<style scoped>\n",
       "    .dataframe tbody tr th:only-of-type {\n",
       "        vertical-align: middle;\n",
       "    }\n",
       "\n",
       "    .dataframe tbody tr th {\n",
       "        vertical-align: top;\n",
       "    }\n",
       "\n",
       "    .dataframe thead th {\n",
       "        text-align: right;\n",
       "    }\n",
       "</style>\n",
       "<table border=\"1\" class=\"dataframe\">\n",
       "  <thead>\n",
       "    <tr style=\"text-align: right;\">\n",
       "      <th></th>\n",
       "      <th>Iteration</th>\n",
       "      <th>Fitness</th>\n",
       "      <th>FEvals</th>\n",
       "      <th>Time</th>\n",
       "      <th>State</th>\n",
       "      <th>Population Size</th>\n",
       "      <th>Mutation Rate</th>\n",
       "      <th>max_iters</th>\n",
       "    </tr>\n",
       "  </thead>\n",
       "  <tbody>\n",
       "    <tr>\n",
       "      <td>1</td>\n",
       "      <td>20</td>\n",
       "      <td>6.0</td>\n",
       "      <td>10522</td>\n",
       "      <td>0.500139</td>\n",
       "      <td>[11, 11, 11, 11, 11, 13, 4, 2, 7, 1, 4, 9, 2, ...</td>\n",
       "      <td>500</td>\n",
       "      <td>0.1</td>\n",
       "      <td>20</td>\n",
       "    </tr>\n",
       "    <tr>\n",
       "      <td>3</td>\n",
       "      <td>20</td>\n",
       "      <td>6.0</td>\n",
       "      <td>10522</td>\n",
       "      <td>0.493830</td>\n",
       "      <td>[8, 8, 8, 8, 8, 2, 9, 11, 12, 2, 10, 11, 10, 1...</td>\n",
       "      <td>500</td>\n",
       "      <td>0.3</td>\n",
       "      <td>20</td>\n",
       "    </tr>\n",
       "    <tr>\n",
       "      <td>5</td>\n",
       "      <td>20</td>\n",
       "      <td>6.0</td>\n",
       "      <td>10522</td>\n",
       "      <td>0.563873</td>\n",
       "      <td>[7, 7, 7, 7, 7, 7, 7, 9, 4, 8, 14, 2, 0, 3, 14...</td>\n",
       "      <td>500</td>\n",
       "      <td>0.7</td>\n",
       "      <td>20</td>\n",
       "    </tr>\n",
       "    <tr>\n",
       "      <td>7</td>\n",
       "      <td>20</td>\n",
       "      <td>6.0</td>\n",
       "      <td>42022</td>\n",
       "      <td>2.484084</td>\n",
       "      <td>[4, 4, 4, 4, 4, 9, 8, 6, 3, 1, 4, 0, 8, 1, 6, ...</td>\n",
       "      <td>2000</td>\n",
       "      <td>0.1</td>\n",
       "      <td>20</td>\n",
       "    </tr>\n",
       "    <tr>\n",
       "      <td>9</td>\n",
       "      <td>20</td>\n",
       "      <td>6.0</td>\n",
       "      <td>42022</td>\n",
       "      <td>2.505978</td>\n",
       "      <td>[11, 11, 11, 11, 11, 12, 0, 4, 13, 4, 14, 9, 5...</td>\n",
       "      <td>2000</td>\n",
       "      <td>0.3</td>\n",
       "      <td>20</td>\n",
       "    </tr>\n",
       "  </tbody>\n",
       "</table>\n",
       "</div>"
      ],
      "text/plain": [
       "   Iteration  Fitness  FEvals      Time  \\\n",
       "1         20      6.0   10522  0.500139   \n",
       "3         20      6.0   10522  0.493830   \n",
       "5         20      6.0   10522  0.563873   \n",
       "7         20      6.0   42022  2.484084   \n",
       "9         20      6.0   42022  2.505978   \n",
       "\n",
       "                                               State  Population Size  \\\n",
       "1  [11, 11, 11, 11, 11, 13, 4, 2, 7, 1, 4, 9, 2, ...              500   \n",
       "3  [8, 8, 8, 8, 8, 2, 9, 11, 12, 2, 10, 11, 10, 1...              500   \n",
       "5  [7, 7, 7, 7, 7, 7, 7, 9, 4, 8, 14, 2, 0, 3, 14...              500   \n",
       "7  [4, 4, 4, 4, 4, 9, 8, 6, 3, 1, 4, 0, 8, 1, 6, ...             2000   \n",
       "9  [11, 11, 11, 11, 11, 12, 0, 4, 13, 4, 14, 9, 5...             2000   \n",
       "\n",
       "   Mutation Rate  max_iters  \n",
       "1            0.1         20  \n",
       "3            0.3         20  \n",
       "5            0.7         20  \n",
       "7            0.1         20  \n",
       "9            0.3         20  "
      ]
     },
     "execution_count": 315,
     "metadata": {},
     "output_type": "execute_result"
    }
   ],
   "source": [
    "df_ga_stats.sort_values(by=['Fitness'], ascending=False).head()"
   ]
  },
  {
   "cell_type": "code",
   "execution_count": 316,
   "metadata": {},
   "outputs": [
    {
     "data": {
      "text/html": [
       "<div>\n",
       "<style scoped>\n",
       "    .dataframe tbody tr th:only-of-type {\n",
       "        vertical-align: middle;\n",
       "    }\n",
       "\n",
       "    .dataframe tbody tr th {\n",
       "        vertical-align: top;\n",
       "    }\n",
       "\n",
       "    .dataframe thead th {\n",
       "        text-align: right;\n",
       "    }\n",
       "</style>\n",
       "<table border=\"1\" class=\"dataframe\">\n",
       "  <thead>\n",
       "    <tr style=\"text-align: right;\">\n",
       "      <th></th>\n",
       "      <th>Iteration</th>\n",
       "      <th>Fitness</th>\n",
       "      <th>FEvals</th>\n",
       "      <th>Time</th>\n",
       "      <th>State</th>\n",
       "      <th>Population Size</th>\n",
       "      <th>Mutation Rate</th>\n",
       "      <th>max_iters</th>\n",
       "    </tr>\n",
       "  </thead>\n",
       "  <tbody>\n",
       "    <tr>\n",
       "      <td>1</td>\n",
       "      <td>20</td>\n",
       "      <td>6.0</td>\n",
       "      <td>10522</td>\n",
       "      <td>0.500139</td>\n",
       "      <td>[11, 11, 11, 11, 11, 13, 4, 2, 7, 1, 4, 9, 2, ...</td>\n",
       "      <td>500</td>\n",
       "      <td>0.1</td>\n",
       "      <td>20</td>\n",
       "    </tr>\n",
       "    <tr>\n",
       "      <td>3</td>\n",
       "      <td>20</td>\n",
       "      <td>6.0</td>\n",
       "      <td>10522</td>\n",
       "      <td>0.493830</td>\n",
       "      <td>[8, 8, 8, 8, 8, 2, 9, 11, 12, 2, 10, 11, 10, 1...</td>\n",
       "      <td>500</td>\n",
       "      <td>0.3</td>\n",
       "      <td>20</td>\n",
       "    </tr>\n",
       "    <tr>\n",
       "      <td>5</td>\n",
       "      <td>20</td>\n",
       "      <td>6.0</td>\n",
       "      <td>10522</td>\n",
       "      <td>0.563873</td>\n",
       "      <td>[7, 7, 7, 7, 7, 7, 7, 9, 4, 8, 14, 2, 0, 3, 14...</td>\n",
       "      <td>500</td>\n",
       "      <td>0.7</td>\n",
       "      <td>20</td>\n",
       "    </tr>\n",
       "  </tbody>\n",
       "</table>\n",
       "</div>"
      ],
      "text/plain": [
       "   Iteration  Fitness  FEvals      Time  \\\n",
       "1         20      6.0   10522  0.500139   \n",
       "3         20      6.0   10522  0.493830   \n",
       "5         20      6.0   10522  0.563873   \n",
       "\n",
       "                                               State  Population Size  \\\n",
       "1  [11, 11, 11, 11, 11, 13, 4, 2, 7, 1, 4, 9, 2, ...              500   \n",
       "3  [8, 8, 8, 8, 8, 2, 9, 11, 12, 2, 10, 11, 10, 1...              500   \n",
       "5  [7, 7, 7, 7, 7, 7, 7, 9, 4, 8, 14, 2, 0, 3, 14...              500   \n",
       "\n",
       "   Mutation Rate  max_iters  \n",
       "1            0.1         20  \n",
       "3            0.3         20  \n",
       "5            0.7         20  "
      ]
     },
     "execution_count": 316,
     "metadata": {},
     "output_type": "execute_result"
    }
   ],
   "source": [
    "min_FEvals=df_ga_stats[df_ga_stats['Fitness']==6]['FEvals'].min()\n",
    "best_param=df_ga_stats[(df_ga_stats['Fitness']==6) & (df_ga_stats['FEvals']==min_FEvals)]\n",
    "best_param"
   ]
  },
  {
   "cell_type": "code",
   "execution_count": 323,
   "metadata": {
    "colab": {
     "base_uri": "https://localhost:8080/",
     "height": 282
    },
    "id": "V5ioK9JO7hyq",
    "outputId": "14dc67a4-f327-49d9-b46f-5f5d657fa795"
   },
   "outputs": [
    {
     "data": {
      "text/plain": [
       "[<matplotlib.lines.Line2D at 0x2255d1474c8>]"
      ]
     },
     "execution_count": 323,
     "metadata": {},
     "output_type": "execute_result"
    },
    {
     "data": {
      "image/png": "[encoded data removed]",
      "text/plain": [
       "<Figure size 432x288 with 1 Axes>"
      ]
     },
     "metadata": {
      "needs_background": "light"
     },
     "output_type": "display_data"
    }
   ],
   "source": [
    "# genetic algorithm\n",
    "best_state, best_fitness, fitness_curve_gene=mlr.genetic_alg(problem=prob,pop_size=500,\n",
    "                                                             mutation_prob=0.3, max_attempts=500, \n",
    "                                                             max_iters=20, curve=True, random_state=2)\n",
    "\n",
    "gene_curve=pd.DataFrame(fitness_curve_gene, columns=['fitness','iterations'])\n",
    "plt.plot(gene_curve['iterations'], gene_curve['fitness'])"
   ]
  },
  {
   "cell_type": "markdown",
   "metadata": {},
   "source": [
    "##### MIMIC"
   ]
  },
  {
   "cell_type": "code",
   "execution_count": 324,
   "metadata": {},
   "outputs": [],
   "source": [
    "# hyperparameter\n",
    "mimi = mlr.MIMICRunner(problem=prob,\n",
    "                       experiment_name='mimic',\n",
    "                       output_directory='content',\n",
    "                       seed=2,\n",
    "                       population_sizes=[500, 1000],\n",
    "                       keep_percent_list=[0.2,0.5],\n",
    "                       iteration_list=[20],\n",
    "                       max_attempts=500,\n",
    "                       use_fast_mimic=True)\n",
    "df_mimi_stats, df_mimi_curve = mimi.run()"
   ]
  },
  {
   "cell_type": "code",
   "execution_count": 325,
   "metadata": {},
   "outputs": [
    {
     "data": {
      "text/html": [
       "<div>\n",
       "<style scoped>\n",
       "    .dataframe tbody tr th:only-of-type {\n",
       "        vertical-align: middle;\n",
       "    }\n",
       "\n",
       "    .dataframe tbody tr th {\n",
       "        vertical-align: top;\n",
       "    }\n",
       "\n",
       "    .dataframe thead th {\n",
       "        text-align: right;\n",
       "    }\n",
       "</style>\n",
       "<table border=\"1\" class=\"dataframe\">\n",
       "  <thead>\n",
       "    <tr style=\"text-align: right;\">\n",
       "      <th></th>\n",
       "      <th>Iteration</th>\n",
       "      <th>Fitness</th>\n",
       "      <th>FEvals</th>\n",
       "      <th>Time</th>\n",
       "      <th>State</th>\n",
       "      <th>use_fast_mimic</th>\n",
       "      <th>Population Size</th>\n",
       "      <th>Keep Percent</th>\n",
       "      <th>max_iters</th>\n",
       "    </tr>\n",
       "  </thead>\n",
       "  <tbody>\n",
       "    <tr>\n",
       "      <td>17</td>\n",
       "      <td>200</td>\n",
       "      <td>6.0</td>\n",
       "      <td>502701</td>\n",
       "      <td>2163.273224</td>\n",
       "      <td>[11.0, 11.0, 11.0, 11.0, 11.0, 2.0, 6.0, 3.0, ...</td>\n",
       "      <td>True</td>\n",
       "      <td>2500</td>\n",
       "      <td>0.2</td>\n",
       "      <td>200</td>\n",
       "    </tr>\n",
       "    <tr>\n",
       "      <td>13</td>\n",
       "      <td>20</td>\n",
       "      <td>6.0</td>\n",
       "      <td>52521</td>\n",
       "      <td>189.352997</td>\n",
       "      <td>[11.0, 11.0, 11.0, 11.0, 11.0, 2.0, 6.0, 3.0, ...</td>\n",
       "      <td>True</td>\n",
       "      <td>2500</td>\n",
       "      <td>0.1</td>\n",
       "      <td>200</td>\n",
       "    </tr>\n",
       "    <tr>\n",
       "      <td>2</td>\n",
       "      <td>200</td>\n",
       "      <td>6.0</td>\n",
       "      <td>100702</td>\n",
       "      <td>477.693987</td>\n",
       "      <td>[10.0, 10.0, 10.0, 10.0, 10.0, 2.0, 8.0, 1.0, ...</td>\n",
       "      <td>True</td>\n",
       "      <td>500</td>\n",
       "      <td>0.1</td>\n",
       "      <td>200</td>\n",
       "    </tr>\n",
       "    <tr>\n",
       "      <td>16</td>\n",
       "      <td>20</td>\n",
       "      <td>6.0</td>\n",
       "      <td>52521</td>\n",
       "      <td>189.544019</td>\n",
       "      <td>[11.0, 11.0, 11.0, 11.0, 11.0, 2.0, 6.0, 3.0, ...</td>\n",
       "      <td>True</td>\n",
       "      <td>2500</td>\n",
       "      <td>0.2</td>\n",
       "      <td>200</td>\n",
       "    </tr>\n",
       "    <tr>\n",
       "      <td>4</td>\n",
       "      <td>20</td>\n",
       "      <td>6.0</td>\n",
       "      <td>10522</td>\n",
       "      <td>42.244806</td>\n",
       "      <td>[2.0, 2.0, 2.0, 2.0, 2.0, 8.0, 7.0, 7.0, 8.0, ...</td>\n",
       "      <td>True</td>\n",
       "      <td>500</td>\n",
       "      <td>0.2</td>\n",
       "      <td>200</td>\n",
       "    </tr>\n",
       "  </tbody>\n",
       "</table>\n",
       "</div>"
      ],
      "text/plain": [
       "    Iteration  Fitness  FEvals         Time  \\\n",
       "17        200      6.0  502701  2163.273224   \n",
       "13         20      6.0   52521   189.352997   \n",
       "2         200      6.0  100702   477.693987   \n",
       "16         20      6.0   52521   189.544019   \n",
       "4          20      6.0   10522    42.244806   \n",
       "\n",
       "                                                State  use_fast_mimic  \\\n",
       "17  [11.0, 11.0, 11.0, 11.0, 11.0, 2.0, 6.0, 3.0, ...            True   \n",
       "13  [11.0, 11.0, 11.0, 11.0, 11.0, 2.0, 6.0, 3.0, ...            True   \n",
       "2   [10.0, 10.0, 10.0, 10.0, 10.0, 2.0, 8.0, 1.0, ...            True   \n",
       "16  [11.0, 11.0, 11.0, 11.0, 11.0, 2.0, 6.0, 3.0, ...            True   \n",
       "4   [2.0, 2.0, 2.0, 2.0, 2.0, 8.0, 7.0, 7.0, 8.0, ...            True   \n",
       "\n",
       "    Population Size  Keep Percent  max_iters  \n",
       "17             2500           0.2        200  \n",
       "13             2500           0.1        200  \n",
       "2               500           0.1        200  \n",
       "16             2500           0.2        200  \n",
       "4               500           0.2        200  "
      ]
     },
     "execution_count": 325,
     "metadata": {},
     "output_type": "execute_result"
    }
   ],
   "source": [
    "df_mimi_stats.sort_values(by=['Fitness'], ascending=False).head()"
   ]
  },
  {
   "cell_type": "code",
   "execution_count": 326,
   "metadata": {},
   "outputs": [
    {
     "data": {
      "text/html": [
       "<div>\n",
       "<style scoped>\n",
       "    .dataframe tbody tr th:only-of-type {\n",
       "        vertical-align: middle;\n",
       "    }\n",
       "\n",
       "    .dataframe tbody tr th {\n",
       "        vertical-align: top;\n",
       "    }\n",
       "\n",
       "    .dataframe thead th {\n",
       "        text-align: right;\n",
       "    }\n",
       "</style>\n",
       "<table border=\"1\" class=\"dataframe\">\n",
       "  <thead>\n",
       "    <tr style=\"text-align: right;\">\n",
       "      <th></th>\n",
       "      <th>Iteration</th>\n",
       "      <th>Fitness</th>\n",
       "      <th>FEvals</th>\n",
       "      <th>Time</th>\n",
       "      <th>State</th>\n",
       "      <th>use_fast_mimic</th>\n",
       "      <th>Population Size</th>\n",
       "      <th>Keep Percent</th>\n",
       "      <th>max_iters</th>\n",
       "    </tr>\n",
       "  </thead>\n",
       "  <tbody>\n",
       "    <tr>\n",
       "      <td>1</td>\n",
       "      <td>20</td>\n",
       "      <td>6.0</td>\n",
       "      <td>10522</td>\n",
       "      <td>37.170231</td>\n",
       "      <td>[10.0, 10.0, 10.0, 10.0, 10.0, 2.0, 8.0, 1.0, ...</td>\n",
       "      <td>True</td>\n",
       "      <td>500</td>\n",
       "      <td>0.1</td>\n",
       "      <td>200</td>\n",
       "    </tr>\n",
       "    <tr>\n",
       "      <td>4</td>\n",
       "      <td>20</td>\n",
       "      <td>6.0</td>\n",
       "      <td>10522</td>\n",
       "      <td>42.244806</td>\n",
       "      <td>[2.0, 2.0, 2.0, 2.0, 2.0, 8.0, 7.0, 7.0, 8.0, ...</td>\n",
       "      <td>True</td>\n",
       "      <td>500</td>\n",
       "      <td>0.2</td>\n",
       "      <td>200</td>\n",
       "    </tr>\n",
       "  </tbody>\n",
       "</table>\n",
       "</div>"
      ],
      "text/plain": [
       "   Iteration  Fitness  FEvals       Time  \\\n",
       "1         20      6.0   10522  37.170231   \n",
       "4         20      6.0   10522  42.244806   \n",
       "\n",
       "                                               State  use_fast_mimic  \\\n",
       "1  [10.0, 10.0, 10.0, 10.0, 10.0, 2.0, 8.0, 1.0, ...            True   \n",
       "4  [2.0, 2.0, 2.0, 2.0, 2.0, 8.0, 7.0, 7.0, 8.0, ...            True   \n",
       "\n",
       "   Population Size  Keep Percent  max_iters  \n",
       "1              500           0.1        200  \n",
       "4              500           0.2        200  "
      ]
     },
     "execution_count": 326,
     "metadata": {},
     "output_type": "execute_result"
    }
   ],
   "source": [
    "min_FEvals=df_mimi_stats[df_mimi_stats['Fitness']==6]['FEvals'].min()\n",
    "best_param=df_mimi_stats[(df_mimi_stats['Fitness']==6) & (df_mimi_stats['FEvals']==min_FEvals)]\n",
    "best_param"
   ]
  },
  {
   "cell_type": "code",
   "execution_count": 327,
   "metadata": {
    "colab": {
     "base_uri": "https://localhost:8080/",
     "height": 282
    },
    "id": "iMMDZtFN8BqN",
    "outputId": "f0f9effb-09a3-474a-b923-c0d0170c1e1a"
   },
   "outputs": [
    {
     "data": {
      "text/plain": [
       "[<matplotlib.lines.Line2D at 0x2255d19fa48>]"
      ]
     },
     "execution_count": 327,
     "metadata": {},
     "output_type": "execute_result"
    },
    {
     "data": {
      "image/png": "[encoded data removed]",
      "text/plain": [
       "<Figure size 432x288 with 1 Axes>"
      ]
     },
     "metadata": {
      "needs_background": "light"
     },
     "output_type": "display_data"
    }
   ],
   "source": [
    "# MIMIC\n",
    "best_state, best_fitness, fitness_curve_mimi=mlr.mimic\\\n",
    "(problem=prob,pop_size=500, keep_pct=0.1, max_attempts=500, max_iters=20, curve=True, random_state=2)\n",
    "\n",
    "mimi_curve=pd.DataFrame(fitness_curve_mimi, columns=['fitness','iterations'])\n",
    "plt.plot(mimi_curve['iterations'], mimi_curve['fitness'])"
   ]
  },
  {
   "cell_type": "code",
   "execution_count": 329,
   "metadata": {
    "id": "LGgQFyo0_Z8N"
   },
   "outputs": [
    {
     "data": {
      "image/png": "[encoded data removed]",
      "text/plain": [
       "<Figure size 576x360 with 1 Axes>"
      ]
     },
     "metadata": {
      "needs_background": "light"
     },
     "output_type": "display_data"
    }
   ],
   "source": [
    "fig1=plt.figure(figsize=(8,5))\n",
    "plt.plot(rhc_curve['iterations'], rhc_curve['fitness'], marker='o', label='rhc')\n",
    "plt.plot(simu_curve['iterations'], simu_curve['fitness'], marker='o', label='simulated annealing')\n",
    "#plt.plot(gene_curve['iterations'], gene_curve['fitness'], marker='o', label='genetic')\n",
    "plt.plot(mimi_curve['iterations'], mimi_curve['fitness'], marker='o', label='MIMIC')\n",
    "plt.plot(gene_curve['iterations'], gene_curve['fitness'], marker='o', label='genetic')\n",
    "plt.legend()\n",
    "plt.title('Optimization algorithms comparison')\n",
    "plt.xlabel('iteration')\n",
    "plt.ylabel('fitness')\n",
    "plt.show()"
   ]
  },
  {
   "cell_type": "markdown",
   "metadata": {
    "id": "qBd6CiCb8T0i"
   },
   "source": [
    "### Knapsack"
   ]
  },
  {
   "cell_type": "code",
   "execution_count": 182,
   "metadata": {},
   "outputs": [],
   "source": [
    "prob=mlr.KnapsackGenerator().generate(seed=2, number_of_items_types=10, max_item_count=5, max_weight_per_item=25,\n",
    "                                      max_value_per_item=10, max_weight_pct=0.6, multiply_by_max_item_count=True,)"
   ]
  },
  {
   "cell_type": "markdown",
   "metadata": {},
   "source": [
    "##### Random hill climbing"
   ]
  },
  {
   "cell_type": "code",
   "execution_count": 176,
   "metadata": {},
   "outputs": [],
   "source": [
    "# Turining parameters\n",
    "rhc=mlr.RHCRunner(problem=prob, experiment_name='rhc', output_directory='content', seed=2, \n",
    "                  max_attempts=500, iteration_list=[500, 1000, 2500], restart_list=[10])\n",
    "df_rhc_stats, df_rhc_curve = rhc.run()"
   ]
  },
  {
   "cell_type": "code",
   "execution_count": 177,
   "metadata": {},
   "outputs": [
    {
     "data": {
      "text/html": [
       "<div>\n",
       "<style scoped>\n",
       "    .dataframe tbody tr th:only-of-type {\n",
       "        vertical-align: middle;\n",
       "    }\n",
       "\n",
       "    .dataframe tbody tr th {\n",
       "        vertical-align: top;\n",
       "    }\n",
       "\n",
       "    .dataframe thead th {\n",
       "        text-align: right;\n",
       "    }\n",
       "</style>\n",
       "<table border=\"1\" class=\"dataframe\">\n",
       "  <thead>\n",
       "    <tr style=\"text-align: right;\">\n",
       "      <th></th>\n",
       "      <th>Iteration</th>\n",
       "      <th>Fitness</th>\n",
       "      <th>FEvals</th>\n",
       "      <th>Time</th>\n",
       "      <th>State</th>\n",
       "      <th>Restarts</th>\n",
       "      <th>max_iters</th>\n",
       "      <th>current_restart</th>\n",
       "    </tr>\n",
       "  </thead>\n",
       "  <tbody>\n",
       "    <tr>\n",
       "      <td>15</td>\n",
       "      <td>2500</td>\n",
       "      <td>166.0</td>\n",
       "      <td>2115</td>\n",
       "      <td>0.979736</td>\n",
       "      <td>[4, 2, 4, 4, 1, 2, 4, 4, 3, 4]</td>\n",
       "      <td>10</td>\n",
       "      <td>2500</td>\n",
       "      <td>3</td>\n",
       "    </tr>\n",
       "    <tr>\n",
       "      <td>14</td>\n",
       "      <td>1000</td>\n",
       "      <td>166.0</td>\n",
       "      <td>2115</td>\n",
       "      <td>0.979736</td>\n",
       "      <td>[4, 2, 4, 4, 1, 2, 4, 4, 3, 4]</td>\n",
       "      <td>10</td>\n",
       "      <td>2500</td>\n",
       "      <td>3</td>\n",
       "    </tr>\n",
       "    <tr>\n",
       "      <td>13</td>\n",
       "      <td>500</td>\n",
       "      <td>166.0</td>\n",
       "      <td>2092</td>\n",
       "      <td>0.935391</td>\n",
       "      <td>[4, 2, 4, 4, 1, 2, 4, 4, 3, 4]</td>\n",
       "      <td>10</td>\n",
       "      <td>2500</td>\n",
       "      <td>3</td>\n",
       "    </tr>\n",
       "    <tr>\n",
       "      <td>43</td>\n",
       "      <td>2500</td>\n",
       "      <td>158.0</td>\n",
       "      <td>5794</td>\n",
       "      <td>6.713393</td>\n",
       "      <td>[3, 3, 4, 4, 2, 4, 2, 4, 4, 1]</td>\n",
       "      <td>10</td>\n",
       "      <td>2500</td>\n",
       "      <td>10</td>\n",
       "    </tr>\n",
       "    <tr>\n",
       "      <td>41</td>\n",
       "      <td>500</td>\n",
       "      <td>158.0</td>\n",
       "      <td>5781</td>\n",
       "      <td>6.627526</td>\n",
       "      <td>[3, 3, 4, 4, 2, 4, 2, 4, 4, 1]</td>\n",
       "      <td>10</td>\n",
       "      <td>2500</td>\n",
       "      <td>10</td>\n",
       "    </tr>\n",
       "  </tbody>\n",
       "</table>\n",
       "</div>"
      ],
      "text/plain": [
       "    Iteration  Fitness  FEvals      Time                           State  \\\n",
       "15       2500    166.0    2115  0.979736  [4, 2, 4, 4, 1, 2, 4, 4, 3, 4]   \n",
       "14       1000    166.0    2115  0.979736  [4, 2, 4, 4, 1, 2, 4, 4, 3, 4]   \n",
       "13        500    166.0    2092  0.935391  [4, 2, 4, 4, 1, 2, 4, 4, 3, 4]   \n",
       "43       2500    158.0    5794  6.713393  [3, 3, 4, 4, 2, 4, 2, 4, 4, 1]   \n",
       "41        500    158.0    5781  6.627526  [3, 3, 4, 4, 2, 4, 2, 4, 4, 1]   \n",
       "\n",
       "    Restarts  max_iters  current_restart  \n",
       "15        10       2500                3  \n",
       "14        10       2500                3  \n",
       "13        10       2500                3  \n",
       "43        10       2500               10  \n",
       "41        10       2500               10  "
      ]
     },
     "execution_count": 177,
     "metadata": {},
     "output_type": "execute_result"
    }
   ],
   "source": [
    "df_rhc_stats.sort_values(by=['Fitness'], ascending=False).head()"
   ]
  },
  {
   "cell_type": "code",
   "execution_count": 178,
   "metadata": {},
   "outputs": [
    {
     "data": {
      "text/html": [
       "<div>\n",
       "<style scoped>\n",
       "    .dataframe tbody tr th:only-of-type {\n",
       "        vertical-align: middle;\n",
       "    }\n",
       "\n",
       "    .dataframe tbody tr th {\n",
       "        vertical-align: top;\n",
       "    }\n",
       "\n",
       "    .dataframe thead th {\n",
       "        text-align: right;\n",
       "    }\n",
       "</style>\n",
       "<table border=\"1\" class=\"dataframe\">\n",
       "  <thead>\n",
       "    <tr style=\"text-align: right;\">\n",
       "      <th></th>\n",
       "      <th>Iteration</th>\n",
       "      <th>Fitness</th>\n",
       "      <th>FEvals</th>\n",
       "      <th>Time</th>\n",
       "      <th>State</th>\n",
       "      <th>Restarts</th>\n",
       "      <th>max_iters</th>\n",
       "      <th>current_restart</th>\n",
       "    </tr>\n",
       "  </thead>\n",
       "  <tbody>\n",
       "    <tr>\n",
       "      <td>13</td>\n",
       "      <td>500</td>\n",
       "      <td>166.0</td>\n",
       "      <td>2092</td>\n",
       "      <td>0.935391</td>\n",
       "      <td>[4, 2, 4, 4, 1, 2, 4, 4, 3, 4]</td>\n",
       "      <td>10</td>\n",
       "      <td>2500</td>\n",
       "      <td>3</td>\n",
       "    </tr>\n",
       "  </tbody>\n",
       "</table>\n",
       "</div>"
      ],
      "text/plain": [
       "    Iteration  Fitness  FEvals      Time                           State  \\\n",
       "13        500    166.0    2092  0.935391  [4, 2, 4, 4, 1, 2, 4, 4, 3, 4]   \n",
       "\n",
       "    Restarts  max_iters  current_restart  \n",
       "13        10       2500                3  "
      ]
     },
     "execution_count": 178,
     "metadata": {},
     "output_type": "execute_result"
    }
   ],
   "source": [
    "min_FEvals=df_rhc_stats[df_rhc_stats['Fitness']==166]['FEvals'].min()\n",
    "best_param=df_rhc_stats[(df_rhc_stats['Fitness']==166) & (df_rhc_stats['FEvals']==min_FEvals)]\n",
    "best_param"
   ]
  },
  {
   "cell_type": "code",
   "execution_count": 183,
   "metadata": {
    "colab": {
     "base_uri": "https://localhost:8080/",
     "height": 282
    },
    "id": "l3RuAchT_PUh",
    "outputId": "ea1b34b7-3b97-4b99-c805-04b24a00afef"
   },
   "outputs": [
    {
     "data": {
      "text/plain": [
       "[<matplotlib.lines.Line2D at 0x2255a176c48>]"
      ]
     },
     "execution_count": 183,
     "metadata": {},
     "output_type": "execute_result"
    },
    {
     "data": {
      "image/png": "[encoded data removed]",
      "text/plain": [
       "<Figure size 432x288 with 1 Axes>"
      ]
     },
     "metadata": {
      "needs_background": "light"
     },
     "output_type": "display_data"
    }
   ],
   "source": [
    "# random hill climbing\n",
    "best_state, best_fitness, fitness_curve_rhc = mlr.random_hill_climb(problem=prob, max_attempts = 500, \n",
    "                                                                      max_iters = 500, curve=True, \n",
    "                                                                      random_state=2, restarts=3)\n",
    "\n",
    "rhc_curve=pd.DataFrame(fitness_curve_rhc, columns=['fitness','iterations'])\n",
    "plt.plot(rhc_curve['iterations'], rhc_curve['fitness'])"
   ]
  },
  {
   "cell_type": "markdown",
   "metadata": {},
   "source": [
    "##### simulated annealing"
   ]
  },
  {
   "cell_type": "code",
   "execution_count": 184,
   "metadata": {},
   "outputs": [],
   "source": [
    "# hyper parameters\n",
    "sa = mlr.SARunner(problem=prob, experiment_name='sa', output_directory='content', seed=2,\n",
    "                  max_attempts=500, iteration_list=[500, 1000, 2500],\n",
    "                  temperature_list=[0.1, 0.5, 1, 10, 20])\n",
    "df_sa_stats, df_sa_curve = sa.run()"
   ]
  },
  {
   "cell_type": "code",
   "execution_count": 185,
   "metadata": {},
   "outputs": [
    {
     "data": {
      "text/html": [
       "<div>\n",
       "<style scoped>\n",
       "    .dataframe tbody tr th:only-of-type {\n",
       "        vertical-align: middle;\n",
       "    }\n",
       "\n",
       "    .dataframe tbody tr th {\n",
       "        vertical-align: top;\n",
       "    }\n",
       "\n",
       "    .dataframe thead th {\n",
       "        text-align: right;\n",
       "    }\n",
       "</style>\n",
       "<table border=\"1\" class=\"dataframe\">\n",
       "  <thead>\n",
       "    <tr style=\"text-align: right;\">\n",
       "      <th></th>\n",
       "      <th>Iteration</th>\n",
       "      <th>Fitness</th>\n",
       "      <th>FEvals</th>\n",
       "      <th>Time</th>\n",
       "      <th>State</th>\n",
       "      <th>schedule_type</th>\n",
       "      <th>schedule_init_temp</th>\n",
       "      <th>schedule_decay</th>\n",
       "      <th>schedule_min_temp</th>\n",
       "      <th>schedule_current_value</th>\n",
       "      <th>Temperature</th>\n",
       "      <th>max_iters</th>\n",
       "    </tr>\n",
       "  </thead>\n",
       "  <tbody>\n",
       "    <tr>\n",
       "      <td>19</td>\n",
       "      <td>2500</td>\n",
       "      <td>181.0</td>\n",
       "      <td>921</td>\n",
       "      <td>0.200475</td>\n",
       "      <td>[4, 0, 4, 4, 1, 4, 4, 4, 4, 4]</td>\n",
       "      <td>geometric</td>\n",
       "      <td>20.0</td>\n",
       "      <td>0.99</td>\n",
       "      <td>0.001</td>\n",
       "      <td>19.959744</td>\n",
       "      <td>20</td>\n",
       "      <td>2500</td>\n",
       "    </tr>\n",
       "    <tr>\n",
       "      <td>18</td>\n",
       "      <td>1000</td>\n",
       "      <td>181.0</td>\n",
       "      <td>921</td>\n",
       "      <td>0.200475</td>\n",
       "      <td>[4, 0, 4, 4, 1, 4, 4, 4, 4, 4]</td>\n",
       "      <td>geometric</td>\n",
       "      <td>20.0</td>\n",
       "      <td>0.99</td>\n",
       "      <td>0.001</td>\n",
       "      <td>19.959744</td>\n",
       "      <td>20</td>\n",
       "      <td>2500</td>\n",
       "    </tr>\n",
       "    <tr>\n",
       "      <td>17</td>\n",
       "      <td>500</td>\n",
       "      <td>181.0</td>\n",
       "      <td>593</td>\n",
       "      <td>0.086944</td>\n",
       "      <td>[4, 0, 4, 4, 1, 4, 4, 4, 4, 4]</td>\n",
       "      <td>geometric</td>\n",
       "      <td>20.0</td>\n",
       "      <td>0.99</td>\n",
       "      <td>0.001</td>\n",
       "      <td>19.982531</td>\n",
       "      <td>20</td>\n",
       "      <td>2500</td>\n",
       "    </tr>\n",
       "    <tr>\n",
       "      <td>15</td>\n",
       "      <td>2500</td>\n",
       "      <td>161.0</td>\n",
       "      <td>756</td>\n",
       "      <td>0.153970</td>\n",
       "      <td>[4, 0, 2, 4, 4, 4, 3, 4, 4, 1]</td>\n",
       "      <td>geometric</td>\n",
       "      <td>10.0</td>\n",
       "      <td>0.99</td>\n",
       "      <td>0.001</td>\n",
       "      <td>9.984537</td>\n",
       "      <td>10</td>\n",
       "      <td>2500</td>\n",
       "    </tr>\n",
       "    <tr>\n",
       "      <td>14</td>\n",
       "      <td>1000</td>\n",
       "      <td>161.0</td>\n",
       "      <td>756</td>\n",
       "      <td>0.153970</td>\n",
       "      <td>[4, 0, 2, 4, 4, 4, 3, 4, 4, 1]</td>\n",
       "      <td>geometric</td>\n",
       "      <td>10.0</td>\n",
       "      <td>0.99</td>\n",
       "      <td>0.001</td>\n",
       "      <td>9.984537</td>\n",
       "      <td>10</td>\n",
       "      <td>2500</td>\n",
       "    </tr>\n",
       "  </tbody>\n",
       "</table>\n",
       "</div>"
      ],
      "text/plain": [
       "    Iteration  Fitness  FEvals      Time                           State  \\\n",
       "19       2500    181.0     921  0.200475  [4, 0, 4, 4, 1, 4, 4, 4, 4, 4]   \n",
       "18       1000    181.0     921  0.200475  [4, 0, 4, 4, 1, 4, 4, 4, 4, 4]   \n",
       "17        500    181.0     593  0.086944  [4, 0, 4, 4, 1, 4, 4, 4, 4, 4]   \n",
       "15       2500    161.0     756  0.153970  [4, 0, 2, 4, 4, 4, 3, 4, 4, 1]   \n",
       "14       1000    161.0     756  0.153970  [4, 0, 2, 4, 4, 4, 3, 4, 4, 1]   \n",
       "\n",
       "   schedule_type  schedule_init_temp  schedule_decay  schedule_min_temp  \\\n",
       "19     geometric                20.0            0.99              0.001   \n",
       "18     geometric                20.0            0.99              0.001   \n",
       "17     geometric                20.0            0.99              0.001   \n",
       "15     geometric                10.0            0.99              0.001   \n",
       "14     geometric                10.0            0.99              0.001   \n",
       "\n",
       "    schedule_current_value Temperature  max_iters  \n",
       "19               19.959744          20       2500  \n",
       "18               19.959744          20       2500  \n",
       "17               19.982531          20       2500  \n",
       "15                9.984537          10       2500  \n",
       "14                9.984537          10       2500  "
      ]
     },
     "execution_count": 185,
     "metadata": {},
     "output_type": "execute_result"
    }
   ],
   "source": [
    "df_sa_stats.sort_values(by=['Fitness'], ascending=False).head()"
   ]
  },
  {
   "cell_type": "code",
   "execution_count": 186,
   "metadata": {},
   "outputs": [
    {
     "data": {
      "text/html": [
       "<div>\n",
       "<style scoped>\n",
       "    .dataframe tbody tr th:only-of-type {\n",
       "        vertical-align: middle;\n",
       "    }\n",
       "\n",
       "    .dataframe tbody tr th {\n",
       "        vertical-align: top;\n",
       "    }\n",
       "\n",
       "    .dataframe thead th {\n",
       "        text-align: right;\n",
       "    }\n",
       "</style>\n",
       "<table border=\"1\" class=\"dataframe\">\n",
       "  <thead>\n",
       "    <tr style=\"text-align: right;\">\n",
       "      <th></th>\n",
       "      <th>Iteration</th>\n",
       "      <th>Fitness</th>\n",
       "      <th>FEvals</th>\n",
       "      <th>Time</th>\n",
       "      <th>State</th>\n",
       "      <th>schedule_type</th>\n",
       "      <th>schedule_init_temp</th>\n",
       "      <th>schedule_decay</th>\n",
       "      <th>schedule_min_temp</th>\n",
       "      <th>schedule_current_value</th>\n",
       "      <th>Temperature</th>\n",
       "      <th>max_iters</th>\n",
       "    </tr>\n",
       "  </thead>\n",
       "  <tbody>\n",
       "    <tr>\n",
       "      <td>17</td>\n",
       "      <td>500</td>\n",
       "      <td>181.0</td>\n",
       "      <td>593</td>\n",
       "      <td>0.086944</td>\n",
       "      <td>[4, 0, 4, 4, 1, 4, 4, 4, 4, 4]</td>\n",
       "      <td>geometric</td>\n",
       "      <td>20.0</td>\n",
       "      <td>0.99</td>\n",
       "      <td>0.001</td>\n",
       "      <td>19.982531</td>\n",
       "      <td>20</td>\n",
       "      <td>2500</td>\n",
       "    </tr>\n",
       "  </tbody>\n",
       "</table>\n",
       "</div>"
      ],
      "text/plain": [
       "    Iteration  Fitness  FEvals      Time                           State  \\\n",
       "17        500    181.0     593  0.086944  [4, 0, 4, 4, 1, 4, 4, 4, 4, 4]   \n",
       "\n",
       "   schedule_type  schedule_init_temp  schedule_decay  schedule_min_temp  \\\n",
       "17     geometric                20.0            0.99              0.001   \n",
       "\n",
       "    schedule_current_value Temperature  max_iters  \n",
       "17               19.982531          20       2500  "
      ]
     },
     "execution_count": 186,
     "metadata": {},
     "output_type": "execute_result"
    }
   ],
   "source": [
    "min_FEvals=df_sa_stats[df_sa_stats['Fitness']==181]['FEvals'].min()\n",
    "best_param=df_sa_stats[(df_sa_stats['Fitness']==181) & (df_sa_stats['FEvals']==min_FEvals)]\n",
    "best_param"
   ]
  },
  {
   "cell_type": "code",
   "execution_count": 187,
   "metadata": {
    "colab": {
     "base_uri": "https://localhost:8080/",
     "height": 282
    },
    "id": "MDUjSGa0_TT_",
    "outputId": "3743a9cd-4f93-40d3-aa00-a948e5b5f81c"
   },
   "outputs": [
    {
     "data": {
      "text/plain": [
       "[<matplotlib.lines.Line2D at 0x22557230a48>]"
      ]
     },
     "execution_count": 187,
     "metadata": {},
     "output_type": "execute_result"
    },
    {
     "data": {
      "image/png": "[encoded data removed]",
      "text/plain": [
       "<Figure size 432x288 with 1 Axes>"
      ]
     },
     "metadata": {
      "needs_background": "light"
     },
     "output_type": "display_data"
    }
   ],
   "source": [
    "# simulated annealing\n",
    "best_state, best_fitness, fitness_curve_simu = mlr.simulated_annealing\\\n",
    "(problem=prob, schedule=mlr.ExpDecay(init_temp=20), max_attempts = 500, max_iters = 500, curve=True, random_state=2)\n",
    "\n",
    "simu_curve=pd.DataFrame(fitness_curve_simu, columns=['fitness','iterations'])\n",
    "plt.plot(simu_curve['iterations'], simu_curve['fitness'])"
   ]
  },
  {
   "cell_type": "markdown",
   "metadata": {},
   "source": [
    "##### genetic"
   ]
  },
  {
   "cell_type": "code",
   "execution_count": 188,
   "metadata": {},
   "outputs": [],
   "source": [
    "# hyperparameter\n",
    "ga = mlr.GARunner(problem=prob,\n",
    "                   experiment_name='genetic',\n",
    "                   output_directory='content',\n",
    "                   seed=2,\n",
    "                   max_attempts=500,\n",
    "                   iteration_list=[20],\n",
    "                   population_sizes=[500,2000],\n",
    "                   mutation_rates=[0.1, 0.3, 0.7])\n",
    "df_ga_stats, df_ga_curve = ga.run()"
   ]
  },
  {
   "cell_type": "code",
   "execution_count": 189,
   "metadata": {},
   "outputs": [
    {
     "data": {
      "text/html": [
       "<div>\n",
       "<style scoped>\n",
       "    .dataframe tbody tr th:only-of-type {\n",
       "        vertical-align: middle;\n",
       "    }\n",
       "\n",
       "    .dataframe tbody tr th {\n",
       "        vertical-align: top;\n",
       "    }\n",
       "\n",
       "    .dataframe thead th {\n",
       "        text-align: right;\n",
       "    }\n",
       "</style>\n",
       "<table border=\"1\" class=\"dataframe\">\n",
       "  <thead>\n",
       "    <tr style=\"text-align: right;\">\n",
       "      <th></th>\n",
       "      <th>Iteration</th>\n",
       "      <th>Fitness</th>\n",
       "      <th>FEvals</th>\n",
       "      <th>Time</th>\n",
       "      <th>State</th>\n",
       "      <th>Population Size</th>\n",
       "      <th>Mutation Rate</th>\n",
       "      <th>max_iters</th>\n",
       "    </tr>\n",
       "  </thead>\n",
       "  <tbody>\n",
       "    <tr>\n",
       "      <td>1</td>\n",
       "      <td>20</td>\n",
       "      <td>181.0</td>\n",
       "      <td>10528</td>\n",
       "      <td>0.570409</td>\n",
       "      <td>[4, 0, 4, 4, 1, 4, 4, 4, 4, 4]</td>\n",
       "      <td>500</td>\n",
       "      <td>0.1</td>\n",
       "      <td>20</td>\n",
       "    </tr>\n",
       "    <tr>\n",
       "      <td>3</td>\n",
       "      <td>20</td>\n",
       "      <td>181.0</td>\n",
       "      <td>10527</td>\n",
       "      <td>0.564412</td>\n",
       "      <td>[4, 0, 4, 4, 1, 4, 4, 4, 4, 4]</td>\n",
       "      <td>500</td>\n",
       "      <td>0.3</td>\n",
       "      <td>20</td>\n",
       "    </tr>\n",
       "    <tr>\n",
       "      <td>5</td>\n",
       "      <td>20</td>\n",
       "      <td>181.0</td>\n",
       "      <td>10528</td>\n",
       "      <td>0.637439</td>\n",
       "      <td>[4, 0, 4, 4, 1, 4, 4, 4, 4, 4]</td>\n",
       "      <td>500</td>\n",
       "      <td>0.7</td>\n",
       "      <td>20</td>\n",
       "    </tr>\n",
       "    <tr>\n",
       "      <td>7</td>\n",
       "      <td>20</td>\n",
       "      <td>181.0</td>\n",
       "      <td>42025</td>\n",
       "      <td>2.682432</td>\n",
       "      <td>[4, 0, 4, 4, 1, 4, 4, 4, 4, 4]</td>\n",
       "      <td>2000</td>\n",
       "      <td>0.1</td>\n",
       "      <td>20</td>\n",
       "    </tr>\n",
       "    <tr>\n",
       "      <td>9</td>\n",
       "      <td>20</td>\n",
       "      <td>181.0</td>\n",
       "      <td>42028</td>\n",
       "      <td>2.798213</td>\n",
       "      <td>[4, 0, 4, 4, 1, 4, 4, 4, 4, 4]</td>\n",
       "      <td>2000</td>\n",
       "      <td>0.3</td>\n",
       "      <td>20</td>\n",
       "    </tr>\n",
       "  </tbody>\n",
       "</table>\n",
       "</div>"
      ],
      "text/plain": [
       "   Iteration  Fitness  FEvals      Time                           State  \\\n",
       "1         20    181.0   10528  0.570409  [4, 0, 4, 4, 1, 4, 4, 4, 4, 4]   \n",
       "3         20    181.0   10527  0.564412  [4, 0, 4, 4, 1, 4, 4, 4, 4, 4]   \n",
       "5         20    181.0   10528  0.637439  [4, 0, 4, 4, 1, 4, 4, 4, 4, 4]   \n",
       "7         20    181.0   42025  2.682432  [4, 0, 4, 4, 1, 4, 4, 4, 4, 4]   \n",
       "9         20    181.0   42028  2.798213  [4, 0, 4, 4, 1, 4, 4, 4, 4, 4]   \n",
       "\n",
       "   Population Size  Mutation Rate  max_iters  \n",
       "1              500            0.1         20  \n",
       "3              500            0.3         20  \n",
       "5              500            0.7         20  \n",
       "7             2000            0.1         20  \n",
       "9             2000            0.3         20  "
      ]
     },
     "execution_count": 189,
     "metadata": {},
     "output_type": "execute_result"
    }
   ],
   "source": [
    "df_ga_stats.sort_values(by=['Fitness'], ascending=False).head()"
   ]
  },
  {
   "cell_type": "code",
   "execution_count": 190,
   "metadata": {},
   "outputs": [
    {
     "data": {
      "text/html": [
       "<div>\n",
       "<style scoped>\n",
       "    .dataframe tbody tr th:only-of-type {\n",
       "        vertical-align: middle;\n",
       "    }\n",
       "\n",
       "    .dataframe tbody tr th {\n",
       "        vertical-align: top;\n",
       "    }\n",
       "\n",
       "    .dataframe thead th {\n",
       "        text-align: right;\n",
       "    }\n",
       "</style>\n",
       "<table border=\"1\" class=\"dataframe\">\n",
       "  <thead>\n",
       "    <tr style=\"text-align: right;\">\n",
       "      <th></th>\n",
       "      <th>Iteration</th>\n",
       "      <th>Fitness</th>\n",
       "      <th>FEvals</th>\n",
       "      <th>Time</th>\n",
       "      <th>State</th>\n",
       "      <th>Population Size</th>\n",
       "      <th>Mutation Rate</th>\n",
       "      <th>max_iters</th>\n",
       "    </tr>\n",
       "  </thead>\n",
       "  <tbody>\n",
       "    <tr>\n",
       "      <td>3</td>\n",
       "      <td>20</td>\n",
       "      <td>181.0</td>\n",
       "      <td>10527</td>\n",
       "      <td>0.564412</td>\n",
       "      <td>[4, 0, 4, 4, 1, 4, 4, 4, 4, 4]</td>\n",
       "      <td>500</td>\n",
       "      <td>0.3</td>\n",
       "      <td>20</td>\n",
       "    </tr>\n",
       "  </tbody>\n",
       "</table>\n",
       "</div>"
      ],
      "text/plain": [
       "   Iteration  Fitness  FEvals      Time                           State  \\\n",
       "3         20    181.0   10527  0.564412  [4, 0, 4, 4, 1, 4, 4, 4, 4, 4]   \n",
       "\n",
       "   Population Size  Mutation Rate  max_iters  \n",
       "3              500            0.3         20  "
      ]
     },
     "execution_count": 190,
     "metadata": {},
     "output_type": "execute_result"
    }
   ],
   "source": [
    "min_FEvals=df_ga_stats[df_ga_stats['Fitness']==181]['FEvals'].min()\n",
    "best_param=df_ga_stats[(df_ga_stats['Fitness']==181) & (df_ga_stats['FEvals']==min_FEvals)]\n",
    "best_param"
   ]
  },
  {
   "cell_type": "code",
   "execution_count": 191,
   "metadata": {
    "colab": {
     "base_uri": "https://localhost:8080/",
     "height": 282
    },
    "id": "e6xtmpjY_WOh",
    "outputId": "8cedcbd3-963e-47dd-b5b2-8ed16720cfca"
   },
   "outputs": [
    {
     "data": {
      "text/plain": [
       "[<matplotlib.lines.Line2D at 0x22553963548>]"
      ]
     },
     "execution_count": 191,
     "metadata": {},
     "output_type": "execute_result"
    },
    {
     "data": {
      "image/png": "[encoded data removed]",
      "text/plain": [
       "<Figure size 432x288 with 1 Axes>"
      ]
     },
     "metadata": {
      "needs_background": "light"
     },
     "output_type": "display_data"
    }
   ],
   "source": [
    "# genetic algorithm\n",
    "best_state, best_fitness, fitness_curve_gene=mlr.genetic_alg\\\n",
    "(problem=prob, pop_size=500, mutation_prob=0.3, max_attempts=100, max_iters=20, curve=True, random_state=2)\n",
    "\n",
    "gene_curve=pd.DataFrame(fitness_curve_gene, columns=['fitness','iterations'])\n",
    "plt.plot(gene_curve['iterations'], gene_curve['fitness'])"
   ]
  },
  {
   "cell_type": "markdown",
   "metadata": {},
   "source": [
    "##### MIMIC"
   ]
  },
  {
   "cell_type": "code",
   "execution_count": 192,
   "metadata": {},
   "outputs": [],
   "source": [
    "# hyperparameter\n",
    "mimi = mlr.MIMICRunner(problem=prob,\n",
    "                       experiment_name='mimic',\n",
    "                       output_directory='content',\n",
    "                       seed=2,\n",
    "                       population_sizes=[500, 1000, 2500],\n",
    "                       keep_percent_list=[0.1,0.2, 0.5],\n",
    "                       iteration_list=[20, 200],\n",
    "                       max_attempts=500,\n",
    "                       use_fast_mimic=True)\n",
    "df_mimi_stats, df_mimi_curve = mimi.run()"
   ]
  },
  {
   "cell_type": "code",
   "execution_count": 193,
   "metadata": {},
   "outputs": [
    {
     "data": {
      "text/html": [
       "<div>\n",
       "<style scoped>\n",
       "    .dataframe tbody tr th:only-of-type {\n",
       "        vertical-align: middle;\n",
       "    }\n",
       "\n",
       "    .dataframe tbody tr th {\n",
       "        vertical-align: top;\n",
       "    }\n",
       "\n",
       "    .dataframe thead th {\n",
       "        text-align: right;\n",
       "    }\n",
       "</style>\n",
       "<table border=\"1\" class=\"dataframe\">\n",
       "  <thead>\n",
       "    <tr style=\"text-align: right;\">\n",
       "      <th></th>\n",
       "      <th>Iteration</th>\n",
       "      <th>Fitness</th>\n",
       "      <th>FEvals</th>\n",
       "      <th>Time</th>\n",
       "      <th>State</th>\n",
       "      <th>use_fast_mimic</th>\n",
       "      <th>Population Size</th>\n",
       "      <th>Keep Percent</th>\n",
       "      <th>max_iters</th>\n",
       "    </tr>\n",
       "  </thead>\n",
       "  <tbody>\n",
       "    <tr>\n",
       "      <td>13</td>\n",
       "      <td>20</td>\n",
       "      <td>181.0</td>\n",
       "      <td>21024</td>\n",
       "      <td>0.420137</td>\n",
       "      <td>[4.0, 0.0, 4.0, 4.0, 1.0, 4.0, 4.0, 4.0, 4.0, ...</td>\n",
       "      <td>True</td>\n",
       "      <td>1000</td>\n",
       "      <td>0.2</td>\n",
       "      <td>200</td>\n",
       "    </tr>\n",
       "    <tr>\n",
       "      <td>14</td>\n",
       "      <td>200</td>\n",
       "      <td>181.0</td>\n",
       "      <td>201204</td>\n",
       "      <td>4.191351</td>\n",
       "      <td>[4.0, 0.0, 4.0, 4.0, 1.0, 4.0, 4.0, 4.0, 4.0, ...</td>\n",
       "      <td>True</td>\n",
       "      <td>1000</td>\n",
       "      <td>0.2</td>\n",
       "      <td>200</td>\n",
       "    </tr>\n",
       "    <tr>\n",
       "      <td>4</td>\n",
       "      <td>20</td>\n",
       "      <td>181.0</td>\n",
       "      <td>10522</td>\n",
       "      <td>0.251970</td>\n",
       "      <td>[4.0, 0.0, 4.0, 4.0, 1.0, 4.0, 4.0, 4.0, 4.0, ...</td>\n",
       "      <td>True</td>\n",
       "      <td>500</td>\n",
       "      <td>0.2</td>\n",
       "      <td>200</td>\n",
       "    </tr>\n",
       "    <tr>\n",
       "      <td>5</td>\n",
       "      <td>200</td>\n",
       "      <td>181.0</td>\n",
       "      <td>100702</td>\n",
       "      <td>2.427425</td>\n",
       "      <td>[4.0, 0.0, 4.0, 4.0, 1.0, 4.0, 4.0, 4.0, 4.0, ...</td>\n",
       "      <td>True</td>\n",
       "      <td>500</td>\n",
       "      <td>0.2</td>\n",
       "      <td>200</td>\n",
       "    </tr>\n",
       "    <tr>\n",
       "      <td>20</td>\n",
       "      <td>200</td>\n",
       "      <td>181.0</td>\n",
       "      <td>502704</td>\n",
       "      <td>9.474301</td>\n",
       "      <td>[4.0, 0.0, 4.0, 4.0, 1.0, 4.0, 4.0, 4.0, 4.0, ...</td>\n",
       "      <td>True</td>\n",
       "      <td>2500</td>\n",
       "      <td>0.1</td>\n",
       "      <td>200</td>\n",
       "    </tr>\n",
       "  </tbody>\n",
       "</table>\n",
       "</div>"
      ],
      "text/plain": [
       "    Iteration  Fitness  FEvals      Time  \\\n",
       "13         20    181.0   21024  0.420137   \n",
       "14        200    181.0  201204  4.191351   \n",
       "4          20    181.0   10522  0.251970   \n",
       "5         200    181.0  100702  2.427425   \n",
       "20        200    181.0  502704  9.474301   \n",
       "\n",
       "                                                State  use_fast_mimic  \\\n",
       "13  [4.0, 0.0, 4.0, 4.0, 1.0, 4.0, 4.0, 4.0, 4.0, ...            True   \n",
       "14  [4.0, 0.0, 4.0, 4.0, 1.0, 4.0, 4.0, 4.0, 4.0, ...            True   \n",
       "4   [4.0, 0.0, 4.0, 4.0, 1.0, 4.0, 4.0, 4.0, 4.0, ...            True   \n",
       "5   [4.0, 0.0, 4.0, 4.0, 1.0, 4.0, 4.0, 4.0, 4.0, ...            True   \n",
       "20  [4.0, 0.0, 4.0, 4.0, 1.0, 4.0, 4.0, 4.0, 4.0, ...            True   \n",
       "\n",
       "    Population Size  Keep Percent  max_iters  \n",
       "13             1000           0.2        200  \n",
       "14             1000           0.2        200  \n",
       "4               500           0.2        200  \n",
       "5               500           0.2        200  \n",
       "20             2500           0.1        200  "
      ]
     },
     "execution_count": 193,
     "metadata": {},
     "output_type": "execute_result"
    }
   ],
   "source": [
    "df_mimi_stats.sort_values(by=['Fitness'], ascending=False).head()"
   ]
  },
  {
   "cell_type": "code",
   "execution_count": 194,
   "metadata": {},
   "outputs": [
    {
     "data": {
      "text/html": [
       "<div>\n",
       "<style scoped>\n",
       "    .dataframe tbody tr th:only-of-type {\n",
       "        vertical-align: middle;\n",
       "    }\n",
       "\n",
       "    .dataframe tbody tr th {\n",
       "        vertical-align: top;\n",
       "    }\n",
       "\n",
       "    .dataframe thead th {\n",
       "        text-align: right;\n",
       "    }\n",
       "</style>\n",
       "<table border=\"1\" class=\"dataframe\">\n",
       "  <thead>\n",
       "    <tr style=\"text-align: right;\">\n",
       "      <th></th>\n",
       "      <th>Iteration</th>\n",
       "      <th>Fitness</th>\n",
       "      <th>FEvals</th>\n",
       "      <th>Time</th>\n",
       "      <th>State</th>\n",
       "      <th>use_fast_mimic</th>\n",
       "      <th>Population Size</th>\n",
       "      <th>Keep Percent</th>\n",
       "      <th>max_iters</th>\n",
       "    </tr>\n",
       "  </thead>\n",
       "  <tbody>\n",
       "    <tr>\n",
       "      <td>4</td>\n",
       "      <td>20</td>\n",
       "      <td>181.0</td>\n",
       "      <td>10522</td>\n",
       "      <td>0.25197</td>\n",
       "      <td>[4.0, 0.0, 4.0, 4.0, 1.0, 4.0, 4.0, 4.0, 4.0, ...</td>\n",
       "      <td>True</td>\n",
       "      <td>500</td>\n",
       "      <td>0.2</td>\n",
       "      <td>200</td>\n",
       "    </tr>\n",
       "  </tbody>\n",
       "</table>\n",
       "</div>"
      ],
      "text/plain": [
       "   Iteration  Fitness  FEvals     Time  \\\n",
       "4         20    181.0   10522  0.25197   \n",
       "\n",
       "                                               State  use_fast_mimic  \\\n",
       "4  [4.0, 0.0, 4.0, 4.0, 1.0, 4.0, 4.0, 4.0, 4.0, ...            True   \n",
       "\n",
       "   Population Size  Keep Percent  max_iters  \n",
       "4              500           0.2        200  "
      ]
     },
     "execution_count": 194,
     "metadata": {},
     "output_type": "execute_result"
    }
   ],
   "source": [
    "min_FEvals=df_mimi_stats[df_mimi_stats['Fitness']==181]['FEvals'].min()\n",
    "best_param=df_mimi_stats[(df_mimi_stats['Fitness']==181) & (df_mimi_stats['FEvals']==min_FEvals)]\n",
    "best_param"
   ]
  },
  {
   "cell_type": "code",
   "execution_count": 197,
   "metadata": {
    "colab": {
     "base_uri": "https://localhost:8080/",
     "height": 282
    },
    "id": "r_WKKAU__bED",
    "outputId": "557813b1-e70b-473a-bc5b-ece1ecde5d7f"
   },
   "outputs": [
    {
     "data": {
      "text/plain": [
       "[<matplotlib.lines.Line2D at 0x225531bc8c8>]"
      ]
     },
     "execution_count": 197,
     "metadata": {},
     "output_type": "execute_result"
    },
    {
     "data": {
      "image/png": "[encoded data removed]",
      "text/plain": [
       "<Figure size 432x288 with 1 Axes>"
      ]
     },
     "metadata": {
      "needs_background": "light"
     },
     "output_type": "display_data"
    }
   ],
   "source": [
    "# MIMIC\n",
    "best_state, best_fitness, fitness_curve_mimi=mlr.mimic\\\n",
    "(problem=prob,pop_size=500, keep_pct=0.2, max_attempts=500, max_iters=20, curve=True, random_state=2)\n",
    "\n",
    "mimi_curve=pd.DataFrame(fitness_curve_mimi, columns=['fitness','iterations'])\n",
    "plt.plot(mimi_curve['iterations'], mimi_curve['fitness'])"
   ]
  },
  {
   "cell_type": "code",
   "execution_count": 198,
   "metadata": {
    "colab": {
     "base_uri": "https://localhost:8080/",
     "height": 350
    },
    "id": "mPFxKfChA-sZ",
    "outputId": "b4e6aae1-eaf5-498a-b047-e4f694f545d0"
   },
   "outputs": [
    {
     "data": {
      "image/png": "[encoded data removed]",
      "text/plain": [
       "<Figure size 576x360 with 1 Axes>"
      ]
     },
     "metadata": {
      "needs_background": "light"
     },
     "output_type": "display_data"
    }
   ],
   "source": [
    "fig3=plt.figure(figsize=(8,5))\n",
    "plt.plot(rhc_curve['iterations'], rhc_curve['fitness'], label='rhc')\n",
    "plt.plot(simu_curve['iterations'], simu_curve['fitness'], label='simulated annealing')\n",
    "plt.plot(gene_curve['iterations'], gene_curve['fitness'], label='genetic')\n",
    "plt.plot(mimi_curve['iterations'], mimi_curve['fitness'], label='MIMIC')\n",
    "plt.legend()\n",
    "plt.title('Optimization algorithms comparison')\n",
    "plt.xlabel('iteration')\n",
    "plt.ylabel('fitness')\n",
    "plt.show()"
   ]
  },
  {
   "cell_type": "markdown",
   "metadata": {
    "id": "Hha1lXiG_6XB"
   },
   "source": [
    "### Neural Network"
   ]
  },
  {
   "cell_type": "code",
   "execution_count": 164,
   "metadata": {
    "id": "4iyEzvcw_8m4"
   },
   "outputs": [],
   "source": [
    "df_health=pd.read_csv('/content/health.csv')\n",
    "df_health_dn=df_health.dropna()\n",
    "X_h=df_health_dn.drop('outcome', axis=1)\n",
    "y_h=df_health_dn['outcome'].astype('int')\n",
    "X_train_h, X_test_h, y_train_h, y_test_h=train_test_split(X_h, y_h, test_size=0.3, random_state=43)"
   ]
  },
  {
   "cell_type": "code",
   "execution_count": 166,
   "metadata": {
    "id": "mTFdEAKN_9Ju"
   },
   "outputs": [],
   "source": [
    "scaler = MinMaxScaler()\n",
    "X_train_scaled = scaler.fit_transform(X_train_h)\n",
    "X_test_scaled = scaler.transform(X_test_h)"
   ]
  },
  {
   "cell_type": "code",
   "execution_count": 168,
   "metadata": {
    "id": "bf3Wo3zRDIoD"
   },
   "outputs": [],
   "source": [
    "one_hot = OneHotEncoder()\n",
    "\n",
    "y_train_hot = one_hot.fit_transform(y_train_h.values.reshape(-1, 1)).todense()\n",
    "y_test_hot = one_hot.transform(y_test_h.values.reshape(-1, 1)).todense()"
   ]
  },
  {
   "cell_type": "code",
   "execution_count": 188,
   "metadata": {
    "id": "SOzGYIxqDONu"
   },
   "outputs": [],
   "source": [
    "iters=[10,50,100,500,1000,2000]\n",
    "\n",
    "training_time=[]\n",
    "train_f1s=[]\n",
    "test_f1s=[]\n",
    "loss=[]\n",
    "\n",
    "for i in iters:\n",
    "  start=time.time()\n",
    "  nn_model = mlr.NeuralNetwork(hidden_nodes = [5], activation = 'relu', \\\n",
    "                                 algorithm = 'gradient_descent', max_iters = i, \\\n",
    "                                 bias = True, is_classifier = True, learning_rate = 0.0001, \\\n",
    "                                 early_stopping = True, clip_max = 5, max_attempts = 100, \\\n",
    "                                 random_state = 3)\n",
    "\n",
    "  nn_model.fit(X_train_scaled, y_train_hot)\n",
    "  end=time.time()\n",
    "  training_time.append(end-start)\n",
    "\n",
    "  y_train_pred = nn_model.predict(X_train_scaled)\n",
    "  y_train_f1 = accuracy_score(np.array(y_train_hot).astype('int'), y_train_pred)\n",
    "  train_f1s.append(y_train_f1)\n",
    "\n",
    "  y_test_pred = nn_model.predict(X_test_scaled)\n",
    "  y_test_f1 = accuracy_score(np.array(y_test_hot).astype('int'), y_test_pred)\n",
    "  test_f1s.append(y_test_f1)\n",
    "  loss.append(nn_model.loss)"
   ]
  },
  {
   "cell_type": "code",
   "execution_count": 184,
   "metadata": {
    "colab": {
     "base_uri": "https://localhost:8080/"
    },
    "id": "azik7S7LLfVH",
    "outputId": "adee8b2c-bd22-47e0-a725-6f414250e7b1"
   },
   "outputs": [
    {
     "data": {
      "text/plain": [
       "array([0, 1])"
      ]
     },
     "execution_count": 184,
     "metadata": {},
     "output_type": "execute_result"
    }
   ],
   "source": [
    "#np.unique(np.array(y_train_hot).astype('int'))"
   ]
  },
  {
   "cell_type": "code",
   "execution_count": 191,
   "metadata": {
    "colab": {
     "base_uri": "https://localhost:8080/",
     "height": 350
    },
    "id": "h80_PMmGFZrk",
    "outputId": "99b52293-a127-4dd0-b5bf-c50e7918a41f"
   },
   "outputs": [
    {
     "data": {
      "image/png": "[encoded data removed]",
      "text/plain": [
       "<Figure size 576x360 with 1 Axes>"
      ]
     },
     "metadata": {
      "needs_background": "light"
     },
     "output_type": "display_data"
    }
   ],
   "source": [
    "fig4=plt.figure(figsize=(8,5))\n",
    "plt.plot(iters, train_f1s, marker='o', label='train')\n",
    "plt.plot(iters, test_f1s, marker='o', label='test')\n",
    "plt.legend()\n",
    "plt.title('Gradient Descent')\n",
    "plt.xlabel('iterations')\n",
    "plt.ylabel('Accuracy')\n",
    "plt.show()"
   ]
  },
  {
   "cell_type": "code",
   "execution_count": 192,
   "metadata": {
    "colab": {
     "base_uri": "https://localhost:8080/",
     "height": 350
    },
    "id": "GfnbkPJaNtMz",
    "outputId": "047196c3-fe23-463f-c47d-3000088316df"
   },
   "outputs": [
    {
     "data": {
      "image/png": "[encoded data removed]",
      "text/plain": [
       "<Figure size 576x360 with 1 Axes>"
      ]
     },
     "metadata": {
      "needs_background": "light"
     },
     "output_type": "display_data"
    }
   ],
   "source": [
    "fig5=plt.figure(figsize=(8,5))\n",
    "plt.plot(iters, loss, marker='o', label='loss')\n",
    "plt.legend()\n",
    "plt.title('Gradient Descent Loss')\n",
    "plt.xlabel('iterations')\n",
    "plt.ylabel('loss')\n",
    "plt.show()"
   ]
  },
  {
   "cell_type": "code",
   "execution_count": 193,
   "metadata": {
    "colab": {
     "base_uri": "https://localhost:8080/",
     "height": 350
    },
    "id": "ez7cLMJwOJrZ",
    "outputId": "8f23dcd6-87e8-4123-fa6f-d629c319232d"
   },
   "outputs": [
    {
     "data": {
      "image/png": "[encoded data removed]",
      "text/plain": [
       "<Figure size 576x360 with 1 Axes>"
      ]
     },
     "metadata": {
      "needs_background": "light"
     },
     "output_type": "display_data"
    }
   ],
   "source": [
    "fig6=plt.figure(figsize=(8,5))\n",
    "plt.plot(iters, training_time, marker='o', label='loss')\n",
    "plt.legend()\n",
    "plt.title('Gradient Descent Training Time')\n",
    "plt.xlabel('iterations')\n",
    "plt.ylabel('time')\n",
    "plt.show()"
   ]
  },
  {
   "cell_type": "code",
   "execution_count": 194,
   "metadata": {
    "id": "uwfRIWGSN180"
   },
   "outputs": [],
   "source": [
    "# Ramdom hill climbing\n",
    "iters=[10,50,100,500,1000,2000]\n",
    "\n",
    "training_time_hc=[]\n",
    "train_f1s_hc=[]\n",
    "test_f1s_hc=[]\n",
    "loss_hc=[]\n",
    "\n",
    "for i in iters:\n",
    "  start=time.time()\n",
    "  nn_model = mlr.NeuralNetwork(hidden_nodes = [5], activation = 'relu', \\\n",
    "                                 algorithm = 'random_hill_climb', max_iters = i, \\\n",
    "                                 bias = True, is_classifier = True, learning_rate = 0.0001, \\\n",
    "                                 early_stopping = True, clip_max = 5, max_attempts = 100, \\\n",
    "                                 random_state = 3)\n",
    "\n",
    "  nn_model.fit(X_train_scaled, y_train_hot)\n",
    "  end=time.time()\n",
    "  training_time_hc.append(end-start)\n",
    "\n",
    "  y_train_pred = nn_model.predict(X_train_scaled)\n",
    "  y_train_f1 = accuracy_score(np.array(y_train_hot).astype('int'), y_train_pred)\n",
    "  train_f1s_hc.append(y_train_f1)\n",
    "\n",
    "  y_test_pred = nn_model.predict(X_test_scaled)\n",
    "  y_test_f1 = accuracy_score(np.array(y_test_hot).astype('int'), y_test_pred)\n",
    "  test_f1s_hc.append(y_test_f1)\n",
    "  loss_hc.append(nn_model.loss)"
   ]
  },
  {
   "cell_type": "code",
   "execution_count": null,
   "metadata": {},
   "outputs": [],
   "source": [
    "nnhc_curve=pd.DataFrame(nn_model.fitness_curve, columns=['fitness','iterations'])\n",
    "fig_nnhc=plt.figure(figsize=(8,5))\n",
    "plt.plot(nnhc_curve['iterations'], nnhc_curve['fitness'])"
   ]
  },
  {
   "cell_type": "code",
   "execution_count": 195,
   "metadata": {
    "colab": {
     "base_uri": "https://localhost:8080/",
     "height": 350
    },
    "id": "IhUWwpHoOpym",
    "outputId": "2c540cab-7199-43bc-c458-f19b0581f4ab"
   },
   "outputs": [
    {
     "data": {
      "image/png": "[encoded data removed]",
      "text/plain": [
       "<Figure size 576x360 with 1 Axes>"
      ]
     },
     "metadata": {
      "needs_background": "light"
     },
     "output_type": "display_data"
    }
   ],
   "source": [
    "fig8=plt.figure(figsize=(8,5))\n",
    "plt.plot(iters, train_f1s_hc, marker='o', label='train')\n",
    "plt.plot(iters, test_f1s_hc, marker='o', label='test')\n",
    "plt.legend()\n",
    "plt.title('Random Hill Climbing')\n",
    "plt.xlabel('iterations')\n",
    "plt.ylabel('Accuracy')\n",
    "plt.show()"
   ]
  },
  {
   "cell_type": "code",
   "execution_count": 196,
   "metadata": {
    "colab": {
     "base_uri": "https://localhost:8080/",
     "height": 350
    },
    "id": "wsTbiSHEOrUl",
    "outputId": "debd3432-d17d-4431-c655-2a5b508b512b"
   },
   "outputs": [
    {
     "data": {
      "image/png": "[encoded data removed]",
      "text/plain": [
       "<Figure size 576x360 with 1 Axes>"
      ]
     },
     "metadata": {
      "needs_background": "light"
     },
     "output_type": "display_data"
    }
   ],
   "source": [
    "fig9=plt.figure(figsize=(8,5))\n",
    "plt.plot(iters, loss_hc, marker='o', label='loss')\n",
    "plt.legend()\n",
    "plt.title('Random Hill Climbing Loss')\n",
    "plt.xlabel('iterations')\n",
    "plt.ylabel('loss')\n",
    "plt.show()"
   ]
  },
  {
   "cell_type": "code",
   "execution_count": 197,
   "metadata": {
    "colab": {
     "base_uri": "https://localhost:8080/",
     "height": 350
    },
    "id": "-pezqxEhO9Ae",
    "outputId": "f77b624a-7e35-4faa-897e-4599d5faebf5"
   },
   "outputs": [
    {
     "data": {
      "image/png": "[encoded data removed]",
      "text/plain": [
       "<Figure size 576x360 with 1 Axes>"
      ]
     },
     "metadata": {
      "needs_background": "light"
     },
     "output_type": "display_data"
    }
   ],
   "source": [
    "fig10=plt.figure(figsize=(8,5))\n",
    "plt.plot(iters, training_time_hc, marker='o', label='loss')\n",
    "plt.legend()\n",
    "plt.title('Random Hill Climbing Training Time')\n",
    "plt.xlabel('iterations')\n",
    "plt.ylabel('time')\n",
    "plt.show()"
   ]
  },
  {
   "cell_type": "code",
   "execution_count": 213,
   "metadata": {
    "id": "_n5FjZfaPKvn"
   },
   "outputs": [],
   "source": [
    "# Simulated Annealing\n",
    "iters=[10,50,100,500,1000,2000,10000]\n",
    "\n",
    "training_time_sa=[]\n",
    "train_f1s_sa=[]\n",
    "test_f1s_sa=[]\n",
    "loss_sa=[]\n",
    "\n",
    "for i in iters:\n",
    "  start=time.time()\n",
    "  nn_model = mlr.NeuralNetwork(hidden_nodes = [5], activation = 'relu', \\\n",
    "                                 algorithm = 'simulated_annealing', max_iters = i, \\\n",
    "                                 bias = True, is_classifier = True, learning_rate = 0.001, \\\n",
    "                                 early_stopping = True, clip_max = 5, max_attempts = 1000, \\\n",
    "                                 curve=True,random_state = 3)\n",
    "\n",
    "  nn_model.fit(X_train_scaled, y_train_hot)\n",
    "  end=time.time()\n",
    "  training_time_sa.append(end-start)\n",
    "\n",
    "  y_train_pred = nn_model.predict(X_train_scaled)\n",
    "  y_train_f1 = accuracy_score(np.array(y_train_hot).astype('int'), y_train_pred)\n",
    "  train_f1s_sa.append(y_train_f1)\n",
    "\n",
    "  y_test_pred = nn_model.predict(X_test_scaled)\n",
    "  y_test_f1 = accuracy_score(np.array(y_test_hot).astype('int'), y_test_pred)\n",
    "  test_f1s_sa.append(y_test_f1)\n",
    "  loss_sa.append(nn_model.loss)"
   ]
  },
  {
   "cell_type": "code",
   "execution_count": 214,
   "metadata": {
    "colab": {
     "base_uri": "https://localhost:8080/",
     "height": 337
    },
    "id": "l4OimaMzV-yr",
    "outputId": "5f093271-3e96-4a24-9c84-b0d06b3927be"
   },
   "outputs": [
    {
     "data": {
      "text/plain": [
       "[<matplotlib.lines.Line2D at 0x7f1608d30c50>]"
      ]
     },
     "execution_count": 214,
     "metadata": {},
     "output_type": "execute_result"
    },
    {
     "data": {
      "image/png": "[encoded data removed]",
      "text/plain": [
       "<Figure size 576x360 with 1 Axes>"
      ]
     },
     "metadata": {
      "needs_background": "light"
     },
     "output_type": "display_data"
    }
   ],
   "source": [
    "nnsa_curve=pd.DataFrame(nn_model.fitness_curve, columns=['fitness','iterations'])\n",
    "fig_nnsa=plt.figure(figsize=(8,5))\n",
    "plt.plot(nnsa_curve['iterations'], nnsa_curve['fitness'])"
   ]
  },
  {
   "cell_type": "code",
   "execution_count": 215,
   "metadata": {
    "colab": {
     "base_uri": "https://localhost:8080/",
     "height": 350
    },
    "id": "9pqZSJCGPkkX",
    "outputId": "f79ec031-08e9-4682-e6dc-4abfd9bc5051"
   },
   "outputs": [
    {
     "data": {
      "image/png": "[encoded data removed]",
      "text/plain": [
       "<Figure size 576x360 with 1 Axes>"
      ]
     },
     "metadata": {
      "needs_background": "light"
     },
     "output_type": "display_data"
    }
   ],
   "source": [
    "fig11=plt.figure(figsize=(8,5))\n",
    "plt.plot(iters, train_f1s_sa, marker='o', label='train')\n",
    "plt.plot(iters, test_f1s_sa, marker='o', label='test')\n",
    "plt.legend()\n",
    "plt.title('Simulated Annealing')\n",
    "plt.xlabel('iterations')\n",
    "plt.ylabel('Accuracy')\n",
    "plt.show()"
   ]
  },
  {
   "cell_type": "code",
   "execution_count": 216,
   "metadata": {
    "colab": {
     "base_uri": "https://localhost:8080/",
     "height": 350
    },
    "id": "Ud-9X5ZrPkqF",
    "outputId": "85be90cf-5c1a-4403-8f8a-36030c84c50d"
   },
   "outputs": [
    {
     "data": {
      "image/png": "[encoded data removed]",
      "text/plain": [
       "<Figure size 576x360 with 1 Axes>"
      ]
     },
     "metadata": {
      "needs_background": "light"
     },
     "output_type": "display_data"
    }
   ],
   "source": [
    "fig12=plt.figure(figsize=(8,5))\n",
    "plt.plot(iters, loss_sa, marker='o', label='loss')\n",
    "plt.legend()\n",
    "plt.title('Simulated Annealing Loss')\n",
    "plt.xlabel('iterations')\n",
    "plt.ylabel('loss')\n",
    "plt.show()"
   ]
  },
  {
   "cell_type": "code",
   "execution_count": 217,
   "metadata": {
    "colab": {
     "base_uri": "https://localhost:8080/",
     "height": 350
    },
    "id": "Xmj_AQbKPkvy",
    "outputId": "86d1d563-9dd3-4817-c3ee-f05874f5b7da"
   },
   "outputs": [
    {
     "data": {
      "image/png": "[encoded data removed]",
      "text/plain": [
       "<Figure size 576x360 with 1 Axes>"
      ]
     },
     "metadata": {
      "needs_background": "light"
     },
     "output_type": "display_data"
    }
   ],
   "source": [
    "fig13=plt.figure(figsize=(8,5))\n",
    "plt.plot(iters, training_time_sa, marker='o', label='loss')\n",
    "plt.legend()\n",
    "plt.title('Simulated Annealing Training Time')\n",
    "plt.xlabel('iterations')\n",
    "plt.ylabel('time')\n",
    "plt.show()"
   ]
  },
  {
   "cell_type": "code",
   "execution_count": 202,
   "metadata": {
    "id": "N4e3wSNNQLFC"
   },
   "outputs": [],
   "source": [
    "# genetic algorithm\n",
    "iters=[10,50,100,500,1000,2000]\n",
    "\n",
    "training_time_ga=[]\n",
    "train_f1s_ga=[]\n",
    "test_f1s_ga=[]\n",
    "loss_ga=[]\n",
    "\n",
    "for i in iters:\n",
    "  start=time.time()\n",
    "  nn_model = mlr.NeuralNetwork(hidden_nodes = [5], activation = 'relu', \\\n",
    "                                 algorithm = 'genetic_alg', max_iters = i, \\\n",
    "                                 bias = True, is_classifier = True, learning_rate = 0.0001, \\\n",
    "                                 early_stopping = True, clip_max = 5, max_attempts = 100, \\\n",
    "                                 random_state = 3)\n",
    "\n",
    "  nn_model.fit(X_train_scaled, y_train_hot)\n",
    "  end=time.time()\n",
    "  training_time_ga.append(end-start)\n",
    "\n",
    "  y_train_pred = nn_model.predict(X_train_scaled)\n",
    "  y_train_f1 = accuracy_score(np.array(y_train_hot).astype('int'), y_train_pred)\n",
    "  train_f1s_ga.append(y_train_f1)\n",
    "\n",
    "  y_test_pred = nn_model.predict(X_test_scaled)\n",
    "  y_test_f1 = accuracy_score(np.array(y_test_hot).astype('int'), y_test_pred)\n",
    "  test_f1s_ga.append(y_test_f1)\n",
    "  loss_ga.append(nn_model.loss)"
   ]
  },
  {
   "cell_type": "code",
   "execution_count": null,
   "metadata": {},
   "outputs": [],
   "source": [
    "nnga_curve=pd.DataFrame(nn_model.fitness_curve, columns=['fitness','iterations'])\n",
    "fig_nnga=plt.figure(figsize=(8,5))\n",
    "plt.plot(nnga_curve['iterations'], nnga_curve['fitness'])"
   ]
  },
  {
   "cell_type": "code",
   "execution_count": 203,
   "metadata": {
    "colab": {
     "base_uri": "https://localhost:8080/",
     "height": 350
    },
    "id": "TW5hHtW1QcSV",
    "outputId": "1cb558aa-2d5b-4043-b91f-24a45bda23af"
   },
   "outputs": [
    {
     "data": {
      "image/png": "[encoded data removed]",
      "text/plain": [
       "<Figure size 576x360 with 1 Axes>"
      ]
     },
     "metadata": {
      "needs_background": "light"
     },
     "output_type": "display_data"
    }
   ],
   "source": [
    "fig14=plt.figure(figsize=(8,5))\n",
    "plt.plot(iters, train_f1s_ga, marker='o', label='train')\n",
    "plt.plot(iters, test_f1s_ga, marker='o', label='test')\n",
    "plt.legend()\n",
    "plt.title('Genetic Algorithm')\n",
    "plt.xlabel('iterations')\n",
    "plt.ylabel('Accuracy')\n",
    "plt.show()"
   ]
  },
  {
   "cell_type": "code",
   "execution_count": 204,
   "metadata": {
    "colab": {
     "base_uri": "https://localhost:8080/",
     "height": 350
    },
    "id": "R3ggo71EQe0B",
    "outputId": "c370d414-c1ff-4dca-c68f-68ca35cc5c9f"
   },
   "outputs": [
    {
     "data": {
      "image/png": "[encoded data removed]",
      "text/plain": [
       "<Figure size 576x360 with 1 Axes>"
      ]
     },
     "metadata": {
      "needs_background": "light"
     },
     "output_type": "display_data"
    }
   ],
   "source": [
    "fig15=plt.figure(figsize=(8,5))\n",
    "plt.plot(iters, loss_ga, marker='o', label='loss')\n",
    "plt.legend()\n",
    "plt.title('Genetic Algorithm')\n",
    "plt.xlabel('iterations')\n",
    "plt.ylabel('loss')\n",
    "plt.show()"
   ]
  },
  {
   "cell_type": "code",
   "execution_count": 205,
   "metadata": {
    "colab": {
     "base_uri": "https://localhost:8080/",
     "height": 350
    },
    "id": "ksGY7YbZQjkP",
    "outputId": "ae7c6285-1740-40a9-89ae-abedb81395d1"
   },
   "outputs": [
    {
     "data": {
      "image/png": "[encoded data removed]",
      "text/plain": [
       "<Figure size 576x360 with 1 Axes>"
      ]
     },
     "metadata": {
      "needs_background": "light"
     },
     "output_type": "display_data"
    }
   ],
   "source": [
    "fig16=plt.figure(figsize=(8,5))\n",
    "plt.plot(iters, training_time_ga, marker='o', label='loss')\n",
    "plt.legend()\n",
    "plt.title('Genetic Algorithm Training Time')\n",
    "plt.xlabel('iterations')\n",
    "plt.ylabel('time')\n",
    "plt.show()"
   ]
  },
  {
   "cell_type": "code",
   "execution_count": 207,
   "metadata": {
    "colab": {
     "base_uri": "https://localhost:8080/",
     "height": 350
    },
    "id": "3PtiteOrTmyM",
    "outputId": "bd92402a-3961-4737-f340-2a9be92c9333"
   },
   "outputs": [
    {
     "data": {
      "image/png": "[encoded data removed]",
      "text/plain": [
       "<Figure size 576x360 with 1 Axes>"
      ]
     },
     "metadata": {
      "needs_background": "light"
     },
     "output_type": "display_data"
    }
   ],
   "source": [
    "# comparison\n",
    "fig17=plt.figure(figsize=(8,5))\n",
    "plt.plot(iters, test_f1s_ga, marker='o', label='genetic')\n",
    "plt.plot(iters, test_f1s_sa, marker='o', label='simulated annealing')\n",
    "plt.plot(iters, test_f1s_hc, marker='o', label='rhc')\n",
    "plt.plot(iters, test_f1s, marker='o', label='gradient descent')\n",
    "plt.legend()\n",
    "plt.title('Neural Network comparison')\n",
    "plt.xlabel('iteration')\n",
    "plt.ylabel('Accuracy')\n",
    "plt.show()"
   ]
  },
  {
   "cell_type": "code",
   "execution_count": null,
   "metadata": {},
   "outputs": [],
   "source": [
    "# comparison training time\n",
    "fig18=plt.figure(figsize=(8,5))\n",
    "plt.plot(iters, training_time_ga, marker='o', label='genetic')\n",
    "plt.plot([10,50,100,500,1000,2000,10000], training_time_sa, marker='o', label='simulated annealing')\n",
    "plt.plot(iters, training_time_hc, marker='o', label='rhc')\n",
    "plt.plot(iters, training_time, marker='o', label='gradient descent')\n",
    "plt.legend()\n",
    "plt.title('Neural Network comparison')\n",
    "plt.xlabel('iteration')\n",
    "plt.ylabel('time')\n",
    "plt.xlim(right=4000)\n",
    "plt.show()"
   ]
  },
  {
   "cell_type": "code",
   "execution_count": null,
   "metadata": {},
   "outputs": [],
   "source": [
    "# comparison fitness score\n",
    "fig19=plt.figure(figsize=(8,5))\n",
    "plt.plot(nnga_curve['iterations'], nnga_curve['fitness'], label='genetic')\n",
    "plt.plot(nnsa_curve['iterations'], nnsa_curve['fitness'], label='simulated annealing')\n",
    "plt.plot(nnhc_curve['iterations'], nnhc_curve['fitness'], label='rhc')\n",
    "plt.legend()\n",
    "plt.title('Neural Network fitness curve comparison')\n",
    "plt.xlabel('iteration')\n",
    "plt.ylabel('fitness')\n",
    "#plt.xlim(right=4000)\n",
    "plt.show()"
   ]
  },
  {
   "cell_type": "code",
   "execution_count": null,
   "metadata": {},
   "outputs": [],
   "source": [
    "# comparison loss\n",
    "fig20=plt.figure(figsize=(8,5))\n",
    "plt.plot(iters, loss_ga, marker='o', label='genetic')\n",
    "plt.plot([10,50,100,500,1000,2000,10000], loss_sa, marker='o',label='simulated annealing')\n",
    "plt.plot(iters, loss_hc, marker='o', label='rhc')\n",
    "plt.plot(iters, loss, marker='o', label='gradient descent')\n",
    "plt.legend()\n",
    "plt.title('Neural Network loss comparison')\n",
    "plt.xlabel('iteration')\n",
    "plt.ylabel('loss')\n",
    "plt.xlim(right=4000)\n",
    "plt.show()"
   ]
  }
 ],
 "metadata": {
  "colab": {
   "name": "hw2.ipynb",
   "provenance": []
  },
  "kernelspec": {
   "display_name": "Python 3",
   "language": "python",
   "name": "python3"
  },
  "language_info": {
   "codemirror_mode": {
    "name": "ipython",
    "version": 3
   },
   "file_extension": ".py",
   "mimetype": "text/x-python",
   "name": "python",
   "nbconvert_exporter": "python",
   "pygments_lexer": "ipython3",
   "version": "3.8.5"
  }
 },
 "nbformat": 4,
 "nbformat_minor": 1
}
